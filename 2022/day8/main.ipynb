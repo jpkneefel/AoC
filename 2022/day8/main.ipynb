{
 "cells": [
  {
   "cell_type": "code",
   "execution_count": 90,
   "metadata": {
    "tags": []
   },
   "outputs": [
    {
     "data": {
      "application/vnd.jupyter.widget-view+json": {
       "model_id": "439d47ef2e464369bec7d46a203fd14f",
       "version_major": 2,
       "version_minor": 0
      },
      "text/plain": [
       "Select(description='Input file:', index=1, options=('in.txt', 'ex1.txt'), rows=4, value='ex1.txt')"
      ]
     },
     "metadata": {},
     "output_type": "display_data"
    }
   ],
   "source": [
    "from IPython.display import display\n",
    "import ipywidgets as widgets\n",
    "from os import listdir\n",
    "from os.path import isfile, join\n",
    "import re\n",
    "import numpy as np\n",
    "from enum import Enum\n",
    "from copy import deepcopy\n",
    "from pprint import pprint\n",
    "from functools import reduce\n",
    "from time import time\n",
    "\n",
    "files = [f for f in listdir('.') if isfile(join('.', f))]\n",
    "pat = re.compile('(ex(\\d)+.txt)|(in(\\d)*.txt)')\n",
    "files = [f for f in files if pat.match(f)]\n",
    "\n",
    "box = widgets.Select(\n",
    "    options=files,\n",
    "    value='ex1.txt',\n",
    "    rows=4,\n",
    "    description='Input file:',\n",
    "    disabled=False\n",
    ")\n",
    "\n",
    "display(box)\n"
   ]
  },
  {
   "cell_type": "markdown",
   "metadata": {},
   "source": [
    "## Parse file"
   ]
  },
  {
   "cell_type": "code",
   "execution_count": 91,
   "metadata": {},
   "outputs": [
    {
     "name": "stdout",
     "output_type": "stream",
     "text": [
      "Done parsing \"in.txt\"\n"
     ]
    }
   ],
   "source": [
    "name = box.value\n",
    "f = open(name, 'r')\n",
    "lines = f.readlines()\n",
    "lines = list(map(lambda l: l.rstrip(), lines))\n",
    "\n",
    "\n",
    "# TODO: Parse the input\n",
    "T = []\n",
    "for line in lines:\n",
    "    T.append(list(map(int, list(line))))\n",
    "\n",
    "print(\"Done parsing \\\"{name}\\\"\".format(name=name))\n"
   ]
  },
  {
   "cell_type": "markdown",
   "metadata": {},
   "source": [
    "### Part 1"
   ]
  },
  {
   "cell_type": "code",
   "execution_count": 58,
   "metadata": {},
   "outputs": [
    {
     "name": "stdout",
     "output_type": "stream",
     "text": [
      "21\n"
     ]
    }
   ],
   "source": [
    "def visible(trees):\n",
    "    m = -1\n",
    "    vis = []\n",
    "    for t in trees:\n",
    "        if t > m:\n",
    "            m = t\n",
    "            vis.append(True)\n",
    "        else:\n",
    "            vis.append(False)\n",
    "    return vis\n",
    "\n",
    "\n",
    "left = list(map(visible, T))\n",
    "right = np.fliplr(list(map(visible, np.fliplr(T))))\n",
    "up = np.transpose(list(map(visible, np.transpose(T))))\n",
    "down = np.flipud(np.transpose(list(map(visible, np.transpose(np.flipud(T))))))\n",
    "\n",
    "vis = np.any((left, right, up, down), axis=0)\n",
    "\n",
    "print(vis.sum())\n"
   ]
  },
  {
   "cell_type": "markdown",
   "metadata": {},
   "source": [
    "### Part 2"
   ]
  },
  {
   "cell_type": "code",
   "execution_count": 92,
   "metadata": {},
   "outputs": [
    {
     "name": "stdout",
     "output_type": "stream",
     "text": [
      "315495\n"
     ]
    }
   ],
   "source": [
    "m = 0\n",
    "score = np.zeros(np.array(T).shape)\n",
    "for x in range(len(T[0])):\n",
    "    for y in range(len(T)):\n",
    "        t = T[y][x]\n",
    "\n",
    "        for r in range(0, len(T[0]) - x):\n",
    "            if r == 0:\n",
    "                continue\n",
    "            if T[y][x + r] >= t:\n",
    "                break\n",
    "\n",
    "        for l in range(0, x + 1):\n",
    "            if l == 0:\n",
    "                continue\n",
    "            if T[y][x - l] >= t:\n",
    "                break\n",
    "\n",
    "        for d in range(0, len(T) - y):\n",
    "            if d == 0:\n",
    "                continue\n",
    "            if T[y + d][x] >= t:\n",
    "                break\n",
    "\n",
    "        for u in range(0, y + 1):\n",
    "            if u == 0:\n",
    "                continue\n",
    "            if T[y - u][x] >= t:\n",
    "                break\n",
    "\n",
    "        score[y][x] = r * l * d * u\n",
    "        m = max(m, score[y][x])\n",
    "\n",
    "print(int(m))\n"
   ]
  }
 ],
 "metadata": {
  "kernelspec": {
   "display_name": "Python 3",
   "language": "python",
   "name": "python3"
  },
  "language_info": {
   "codemirror_mode": {
    "name": "ipython",
    "version": 3
   },
   "file_extension": ".py",
   "mimetype": "text/x-python",
   "name": "python",
   "nbconvert_exporter": "python",
   "pygments_lexer": "ipython3",
   "version": "3.10.6"
  },
  "orig_nbformat": 4,
  "vscode": {
   "interpreter": {
    "hash": "2b756ddc43d68246ce63911f0d52e825da4eb80d904e20dbdcc34bf6f90418c2"
   }
  }
 },
 "nbformat": 4,
 "nbformat_minor": 2
}
