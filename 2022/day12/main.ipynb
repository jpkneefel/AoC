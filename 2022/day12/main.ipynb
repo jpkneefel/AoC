{
 "cells": [
  {
   "cell_type": "code",
   "execution_count": 50,
   "metadata": {
    "tags": []
   },
   "outputs": [
    {
     "data": {
      "application/vnd.jupyter.widget-view+json": {
       "model_id": "a41dc74dac0b4931bdb1dcbd9a16949e",
       "version_major": 2,
       "version_minor": 0
      },
      "text/plain": [
       "Select(description='Input file:', index=1, options=('in.txt', 'ex1.txt'), rows=4, value='ex1.txt')"
      ]
     },
     "metadata": {},
     "output_type": "display_data"
    }
   ],
   "source": [
    "from IPython.display import display\n",
    "import ipywidgets as widgets\n",
    "from os import listdir\n",
    "from os.path import isfile, join\n",
    "import re\n",
    "import numpy as np\n",
    "from enum import Enum\n",
    "from copy import deepcopy\n",
    "from pprint import pprint\n",
    "from functools import reduce\n",
    "from time import time\n",
    "from queue import PriorityQueue\n",
    "from math import prod\n",
    "import string\n",
    "\n",
    "\n",
    "def print_mat(mat):\n",
    "    for row in mat:\n",
    "        print(''.join(row))\n",
    "\n",
    "\n",
    "files = [f for f in listdir('.') if isfile(join('.', f))]\n",
    "pat = re.compile('(ex(\\d)+.txt)|(in(\\d)*.txt)')\n",
    "files = [f for f in files if pat.match(f)]\n",
    "\n",
    "box = widgets.Select(\n",
    "    options=files,\n",
    "    value='ex1.txt',\n",
    "    rows=4,\n",
    "    description='Input file:',\n",
    "    disabled=False\n",
    ")\n",
    "\n",
    "display(box)\n"
   ]
  },
  {
   "cell_type": "markdown",
   "metadata": {},
   "source": [
    "## Parse file"
   ]
  },
  {
   "cell_type": "code",
   "execution_count": 65,
   "metadata": {},
   "outputs": [
    {
     "name": "stdout",
     "output_type": "stream",
     "text": [
      "Done parsing \"in.txt\"\n"
     ]
    }
   ],
   "source": [
    "name = box.value\n",
    "f = open(name, 'r')\n",
    "lines = f.readlines()\n",
    "lines = list(map(lambda l: l.rstrip(), lines))\n",
    "\n",
    "\n",
    "# TODO: Parse the input\n",
    "\n",
    "A = {a: i for i, a in enumerate(string.ascii_lowercase)}\n",
    "A['S'] = -1\n",
    "A['E'] = 26\n",
    "\n",
    "G = np.array([list(map(A.get, list(line))) for line in lines])\n",
    "START = tuple(map(lambda x: x[0], np.where(G == -1)))\n",
    "END = tuple(map(lambda x: x[0], np.where(G == 26)))\n",
    "G[START] = 0\n",
    "G[END] = 25\n",
    "\n",
    "print(\"Done parsing \\\"{name}\\\"\".format(name=name))\n"
   ]
  },
  {
   "cell_type": "markdown",
   "metadata": {},
   "source": [
    "### Part 1"
   ]
  },
  {
   "cell_type": "code",
   "execution_count": 68,
   "metadata": {},
   "outputs": [
    {
     "name": "stdout",
     "output_type": "stream",
     "text": [
      "339\n"
     ]
    }
   ],
   "source": [
    "def dist(start):\n",
    "    D = np.full(G.shape, np.inf, dtype=int)\n",
    "    D[start] = 0\n",
    "\n",
    "    Q = PriorityQueue()\n",
    "    Q.put((0, start))\n",
    "\n",
    "    while not Q.empty():\n",
    "        d, p = Q.get()\n",
    "        for delta in [(-1, 0), (1, 0), (0, -1), (0, 1)]:\n",
    "            i, j = map(sum, zip(p, delta))\n",
    "            m, n = G.shape\n",
    "            if i < 0 or i >= m or j < 0 or j >= n:\n",
    "                continue\n",
    "            if G[p] + 1 >= G[i, j]:\n",
    "                dis = d + 1\n",
    "                if dis < D[i, j]:\n",
    "                    D[i, j] = dis\n",
    "                    Q.put((dis, (i, j)))\n",
    "    return D[END]\n",
    "\n",
    "\n",
    "print(dist(START))\n"
   ]
  },
  {
   "cell_type": "markdown",
   "metadata": {},
   "source": [
    "### Part 2"
   ]
  },
  {
   "cell_type": "code",
   "execution_count": 69,
   "metadata": {},
   "outputs": [
    {
     "name": "stdout",
     "output_type": "stream",
     "text": [
      "332\n"
     ]
    }
   ],
   "source": [
    "d = np.inf\n",
    "start = None\n",
    "for s in zip(*np.where(G == 0)):\n",
    "    dis = dist(s)\n",
    "    if dis < d:\n",
    "        d = dis\n",
    "        start = s\n",
    "\n",
    "print(d)\n"
   ]
  }
 ],
 "metadata": {
  "kernelspec": {
   "display_name": "Python 3.10.6 64-bit ('3.10.6')",
   "language": "python",
   "name": "python3"
  },
  "language_info": {
   "codemirror_mode": {
    "name": "ipython",
    "version": 3
   },
   "file_extension": ".py",
   "mimetype": "text/x-python",
   "name": "python",
   "nbconvert_exporter": "python",
   "pygments_lexer": "ipython3",
   "version": "3.10.6"
  },
  "orig_nbformat": 4,
  "vscode": {
   "interpreter": {
    "hash": "2b756ddc43d68246ce63911f0d52e825da4eb80d904e20dbdcc34bf6f90418c2"
   }
  }
 },
 "nbformat": 4,
 "nbformat_minor": 2
}
