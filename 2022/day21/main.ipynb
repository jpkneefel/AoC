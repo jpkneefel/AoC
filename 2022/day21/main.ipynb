{
 "cells": [
  {
   "cell_type": "code",
   "execution_count": 1,
   "metadata": {
    "tags": []
   },
   "outputs": [
    {
     "data": {
      "application/vnd.jupyter.widget-view+json": {
       "model_id": "9f50402e270b4b2999c112414b4e08c4",
       "version_major": 2,
       "version_minor": 0
      },
      "text/plain": [
       "Select(description='Input file:', index=1, options=('in.txt', 'ex1.txt'), rows=4, value='ex1.txt')"
      ]
     },
     "metadata": {},
     "output_type": "display_data"
    }
   ],
   "source": [
    "from IPython.display import display\n",
    "import ipywidgets as widgets\n",
    "from os import listdir\n",
    "from os.path import isfile, join\n",
    "import re\n",
    "import numpy as np\n",
    "from enum import Enum\n",
    "from copy import deepcopy\n",
    "from pprint import pprint\n",
    "from functools import reduce, cmp_to_key\n",
    "from itertools import groupby, combinations, permutations\n",
    "from time import time\n",
    "from queue import PriorityQueue\n",
    "from math import prod, ceil, comb, perm\n",
    "from collections import defaultdict\n",
    "from dataclasses import dataclass\n",
    "from bisect import insort\n",
    "import string\n",
    "\n",
    "files = [f for f in listdir('.') if isfile(join('.', f))]\n",
    "pat = re.compile('(ex(\\d)+.txt)|(in(\\d)*.txt)')\n",
    "files = [f for f in files if pat.match(f)]\n",
    "\n",
    "box = widgets.Select(\n",
    "    options=files,\n",
    "    value='ex1.txt',\n",
    "    rows=4,\n",
    "    description='Input file:',\n",
    "    disabled=False\n",
    ")\n",
    "\n",
    "display(box)\n"
   ]
  },
  {
   "cell_type": "markdown",
   "metadata": {},
   "source": [
    "## Parse file"
   ]
  },
  {
   "cell_type": "code",
   "execution_count": 2,
   "metadata": {},
   "outputs": [
    {
     "name": "stdout",
     "output_type": "stream",
     "text": [
      "Done parsing \"in.txt\"\n"
     ]
    }
   ],
   "source": [
    "lines = list(map(lambda l: l.rstrip(), open(box.value, 'r').readlines()))\n",
    "\n",
    "Expressions = {\"humn\": \"humn\"}\n",
    "human = None\n",
    "for line in lines:\n",
    "    if line[:4] == \"humn\":\n",
    "        human = int(line[6:])\n",
    "        continue\n",
    "    if len(line) < 17:\n",
    "        Expressions[line[:4]] = line[6:]\n",
    "\n",
    "print(\"Done parsing \\\"{name}\\\"\".format(name=box.value))\n"
   ]
  },
  {
   "cell_type": "markdown",
   "metadata": {},
   "source": [
    "### Part 1"
   ]
  },
  {
   "cell_type": "code",
   "execution_count": 3,
   "metadata": {},
   "outputs": [],
   "source": [
    "class Monkey:\n",
    "\n",
    "    def __init__(self, name, job):\n",
    "        self.name = name\n",
    "        self.job = job[5]\n",
    "        self.left = job[:4]\n",
    "        self.right = job[7:]\n",
    "        self.expr = \"{} {} {}\".format(\n",
    "            self.left, self.job, self.right)\n",
    "\n",
    "    def perform(self, E):\n",
    "        if self.left not in E or self.right not in E:\n",
    "            return False\n",
    "\n",
    "        expr = \"({}) {} ({})\".format(\n",
    "            E[self.left], self.job, E[self.right])\n",
    "        E[self.name] = expr\n",
    "        self.expr = expr\n",
    "\n",
    "        return True\n",
    "\n",
    "    def __repr__(self):\n",
    "        return f\"{self.name}: {self.expr}\"\n",
    "\n",
    "\n",
    "Monkeys = [Monkey(line[:4], line[6:]) for line in lines if len(line) >= 17]\n"
   ]
  },
  {
   "cell_type": "code",
   "execution_count": 4,
   "metadata": {},
   "outputs": [
    {
     "name": "stdout",
     "output_type": "stream",
     "text": [
      "38914458159166\n"
     ]
    }
   ],
   "source": [
    "M = deepcopy(Monkeys)\n",
    "E = deepcopy(Expressions)\n",
    "\n",
    "while len(M) > 0:\n",
    "    for m in M:\n",
    "        if m.perform(E):\n",
    "            M.remove(m)\n",
    "            break\n",
    "\n",
    "print(int(eval(\"lambda humn: \" + E[\"root\"])(human)))\n"
   ]
  },
  {
   "cell_type": "markdown",
   "metadata": {},
   "source": [
    "### Part 2"
   ]
  },
  {
   "cell_type": "code",
   "execution_count": 5,
   "metadata": {},
   "outputs": [
    {
     "name": "stdout",
     "output_type": "stream",
     "text": [
      "3665520865940\n"
     ]
    }
   ],
   "source": [
    "from scipy.optimize import fsolve\n",
    "\n",
    "\n",
    "root = next(line[6:] for line in lines if line[:4] == \"root\")\n",
    "l, _, r = root.split()\n",
    "\n",
    "\n",
    "left = eval(\"lambda humn: \" + E[l])\n",
    "right = eval(\"lambda humn: \" + E[r])\n",
    "x = int(fsolve(lambda h: left(h) - right(h),\n",
    "        np.arange(-1_000_000, 1_000_000, 10_000))[0])\n",
    "\n",
    "\n",
    "print(x)\n"
   ]
  }
 ],
 "metadata": {
  "kernelspec": {
   "display_name": "Python 3.10.6 64-bit ('3.10.6')",
   "language": "python",
   "name": "python3"
  },
  "language_info": {
   "codemirror_mode": {
    "name": "ipython",
    "version": 3
   },
   "file_extension": ".py",
   "mimetype": "text/x-python",
   "name": "python",
   "nbconvert_exporter": "python",
   "pygments_lexer": "ipython3",
   "version": "3.10.6"
  },
  "orig_nbformat": 4,
  "vscode": {
   "interpreter": {
    "hash": "2b756ddc43d68246ce63911f0d52e825da4eb80d904e20dbdcc34bf6f90418c2"
   }
  }
 },
 "nbformat": 4,
 "nbformat_minor": 2
}
