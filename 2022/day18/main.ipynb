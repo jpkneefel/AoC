{
 "cells": [
  {
   "cell_type": "code",
   "execution_count": 44,
   "metadata": {
    "tags": []
   },
   "outputs": [
    {
     "data": {
      "application/vnd.jupyter.widget-view+json": {
       "model_id": "f3f04d46376d4384b14ec49273d52b16",
       "version_major": 2,
       "version_minor": 0
      },
      "text/plain": [
       "Select(description='Input file:', index=1, options=('in.txt', 'ex1.txt'), rows=4, value='ex1.txt')"
      ]
     },
     "metadata": {},
     "output_type": "display_data"
    }
   ],
   "source": [
    "from IPython.display import display\n",
    "import ipywidgets as widgets\n",
    "from os import listdir\n",
    "from os.path import isfile, join\n",
    "import re\n",
    "import numpy as np\n",
    "from enum import Enum\n",
    "from copy import deepcopy\n",
    "from pprint import pprint\n",
    "from functools import reduce, cmp_to_key\n",
    "from itertools import groupby, combinations, permutations\n",
    "from time import time\n",
    "from queue import PriorityQueue\n",
    "from math import prod, ceil, comb, perm\n",
    "from collections import defaultdict\n",
    "import string\n",
    "\n",
    "\n",
    "files = [f for f in listdir('.') if isfile(join('.', f))]\n",
    "pat = re.compile('(ex(\\d)+.txt)|(in(\\d)*.txt)')\n",
    "files = [f for f in files if pat.match(f)]\n",
    "\n",
    "box = widgets.Select(\n",
    "    options=files,\n",
    "    value='ex1.txt',\n",
    "    rows=4,\n",
    "    description='Input file:',\n",
    "    disabled=False\n",
    ")\n",
    "\n",
    "display(box)\n"
   ]
  },
  {
   "cell_type": "markdown",
   "metadata": {},
   "source": [
    "## Parse file"
   ]
  },
  {
   "cell_type": "code",
   "execution_count": 48,
   "metadata": {},
   "outputs": [
    {
     "name": "stdout",
     "output_type": "stream",
     "text": [
      "Done parsing \"in.txt\"\n"
     ]
    }
   ],
   "source": [
    "lines = list(map(lambda l: l.rstrip(), open(box.value, 'r').readlines()))\n",
    "\n",
    "P = [tuple(map(int, line.split(','))) for line in lines]\n",
    "\n",
    "print(\"Done parsing \\\"{name}\\\"\".format(name=box.value))\n"
   ]
  },
  {
   "cell_type": "markdown",
   "metadata": {},
   "source": [
    "### Part 1"
   ]
  },
  {
   "cell_type": "code",
   "execution_count": 49,
   "metadata": {},
   "outputs": [
    {
     "name": "stdout",
     "output_type": "stream",
     "text": [
      "4288\n"
     ]
    }
   ],
   "source": [
    "G = set(P)\n",
    "A = 0\n",
    "for p in P:\n",
    "    for dx, dy, dz in [(1, 0, 0), (-1, 0, 0), (0, 1, 0),\n",
    "                       (0, -1, 0), (0, 0, 1), (0, 0, -1)]:\n",
    "        if (p[0] + dx, p[1] + dy, p[2] + dz) not in G:\n",
    "            A += 1\n",
    "print(A)\n",
    "\n"
   ]
  },
  {
   "cell_type": "markdown",
   "metadata": {},
   "source": [
    "### Part 2"
   ]
  },
  {
   "cell_type": "code",
   "execution_count": 50,
   "metadata": {},
   "outputs": [
    {
     "name": "stdout",
     "output_type": "stream",
     "text": [
      "2494\n"
     ]
    }
   ],
   "source": [
    "xmin = min(p[0] for p in P)\n",
    "xmax = max(p[0] for p in P)\n",
    "ymin = min(p[1] for p in P)\n",
    "ymax = max(p[1] for p in P)\n",
    "zmin = min(p[2] for p in P)\n",
    "zmax = max(p[2] for p in P)\n",
    "\n",
    "G = set(P)\n",
    "W = set()\n",
    "for x in range(xmin - 1, xmax + 2):\n",
    "    for y in range(ymin - 1, ymax + 2):\n",
    "        for z in range(zmin - 1, zmax + 2):\n",
    "            if x == xmin - 1 or x == xmax + 1 \\\n",
    "                    or y == ymin - 1 or y == ymax + 1 \\\n",
    "                    or z == zmin - 1 or z == zmax + 1:\n",
    "                W.add((x, y, z))\n",
    "\n",
    "while True:\n",
    "    DW = set()\n",
    "    for x, y, z in W:\n",
    "        for dx, dy, dz in [(1, 0, 0), (-1, 0, 0), (0, 1, 0),\n",
    "                           (0, -1, 0), (0, 0, 1), (0, 0, -1)]:\n",
    "            u, v, w = (x + dx, y + dy, z + dz)\n",
    "            if not (u <= xmin - 1 or u >= xmax + 1\n",
    "                    or v <= ymin - 1 or v >= ymax + 1\n",
    "                    or w <= zmin - 1 or w >= zmax + 1) \\\n",
    "                    and not (u, v, w) in G:\n",
    "                DW.add((u, v, w))\n",
    "    old = len(W)\n",
    "    W.update(DW)\n",
    "    if len(W) == old:\n",
    "        break\n",
    "\n",
    "\n",
    "A = 0\n",
    "for p in P:\n",
    "    for dx, dy, dz in [(1, 0, 0), (-1, 0, 0), (0, 1, 0),\n",
    "                       (0, -1, 0), (0, 0, 1), (0, 0, -1)]:\n",
    "        pnew = (p[0] + dx, p[1] + dy, p[2] + dz)\n",
    "        if pnew not in G and pnew in W:\n",
    "            A += 1\n",
    "print(A)\n"
   ]
  }
 ],
 "metadata": {
  "kernelspec": {
   "display_name": "Python 3.10.6 64-bit ('3.10.6')",
   "language": "python",
   "name": "python3"
  },
  "language_info": {
   "codemirror_mode": {
    "name": "ipython",
    "version": 3
   },
   "file_extension": ".py",
   "mimetype": "text/x-python",
   "name": "python",
   "nbconvert_exporter": "python",
   "pygments_lexer": "ipython3",
   "version": "3.10.6"
  },
  "orig_nbformat": 4,
  "vscode": {
   "interpreter": {
    "hash": "2b756ddc43d68246ce63911f0d52e825da4eb80d904e20dbdcc34bf6f90418c2"
   }
  }
 },
 "nbformat": 4,
 "nbformat_minor": 2
}
