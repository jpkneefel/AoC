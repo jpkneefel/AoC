{
 "cells": [
  {
   "cell_type": "code",
   "execution_count": 3,
   "metadata": {
    "tags": []
   },
   "outputs": [
    {
     "data": {
      "application/vnd.jupyter.widget-view+json": {
       "model_id": "2131d6a720c64ac4992f9cfdf5f00d9f",
       "version_major": 2,
       "version_minor": 0
      },
      "text/plain": [
       "Select(description='Input file:', index=1, options=('in.txt', 'ex1.txt'), rows=4, value='ex1.txt')"
      ]
     },
     "metadata": {},
     "output_type": "display_data"
    }
   ],
   "source": [
    "from IPython.display import display\n",
    "import ipywidgets as widgets\n",
    "from os import listdir\n",
    "from os.path import isfile, join\n",
    "import re\n",
    "from copy import deepcopy\n",
    "\n",
    "files = [f for f in listdir('.') if isfile(join('.', f))]\n",
    "pat = re.compile('(ex(\\d)+.txt)|(in(\\d)*.txt)')\n",
    "files = [f for f in files if pat.match(f)]\n",
    "\n",
    "box = widgets.Select(\n",
    "    options=files,\n",
    "    value='ex1.txt',\n",
    "    rows=4,\n",
    "    description='Input file:',\n",
    "    disabled=False\n",
    ") \n",
    "\n",
    "display(box)"
   ]
  },
  {
   "cell_type": "markdown",
   "metadata": {},
   "source": [
    "## Parse file"
   ]
  },
  {
   "cell_type": "code",
   "execution_count": 7,
   "metadata": {},
   "outputs": [
    {
     "name": "stdout",
     "output_type": "stream",
     "text": [
      "Done parsing \"in.txt\"\n"
     ]
    }
   ],
   "source": [
    "import numpy as np\n",
    "from enum import Enum\n",
    "\n",
    "name = box.value\n",
    "f = open(name, 'r')\n",
    "lines = f.readlines()\n",
    "lines = list(map(lambda l: l.rstrip(), lines))\n",
    "\n",
    "\n",
    "# TODO: Parse the input\n",
    "index = 0\n",
    "n = 0\n",
    "for i in range(len(lines)):\n",
    "    line = lines[i]\n",
    "    if line[1] == '1':\n",
    "        index = i\n",
    "        n = int(line[-1])\n",
    "        break\n",
    "\n",
    "S = [[] for x in range(n)]\n",
    "for i in range(index):\n",
    "    line = lines[i]\n",
    "    for j in range(n):\n",
    "        x = 1 + 4*j\n",
    "        if x >= len(line):\n",
    "            continue\n",
    "        c = line[x]\n",
    "        if c == ' ':\n",
    "            continue\n",
    "        S[j].append(c)\n",
    "\n",
    "Actions = []\n",
    "pat = re.compile('move (\\d+) from (\\d+) to (\\d+)')\n",
    "for i in range(index + 2, len(lines)):\n",
    "    line = lines[i]\n",
    "    m = pat.match(line).groups()\n",
    "    Actions.append(tuple(map(int, m)))\n",
    "\n",
    "\n",
    "print(\"Done parsing \\\"{name}\\\"\".format(name=name))\n"
   ]
  },
  {
   "cell_type": "markdown",
   "metadata": {},
   "source": [
    "### Part 1"
   ]
  },
  {
   "cell_type": "code",
   "execution_count": 8,
   "metadata": {},
   "outputs": [
    {
     "name": "stdout",
     "output_type": "stream",
     "text": [
      "CMZ\n"
     ]
    }
   ],
   "source": [
    "def move(state, action):\n",
    "    n, a, b = action\n",
    "    new_state = deepcopy(state)\n",
    "    for _ in range(n):\n",
    "        x = new_state[a-1].pop(0)\n",
    "        new_state[b-1].insert(0, x)\n",
    "    return new_state\n",
    "    \n",
    "state = deepcopy(S)\n",
    "for action in Actions:\n",
    "    state = move(state, action)\n",
    "\n",
    "msg = ''\n",
    "for i in range(n):\n",
    "    msg += ' '.join(state[i][0])\n",
    "    \n",
    "print(msg)"
   ]
  },
  {
   "cell_type": "markdown",
   "metadata": {},
   "source": [
    "### Part 2"
   ]
  },
  {
   "cell_type": "code",
   "execution_count": 8,
   "metadata": {},
   "outputs": [
    {
     "name": "stdout",
     "output_type": "stream",
     "text": [
      "BNTZFPMMW\n"
     ]
    }
   ],
   "source": [
    "def move(state, action):\n",
    "    n, a, b = action\n",
    "    new = deepcopy(state)\n",
    "\n",
    "    new[b-1] = new[a-1][:n] + new[b-1]\n",
    "    new[a-1] = new[a-1][n:]\n",
    "\n",
    "    return new\n",
    "\n",
    "\n",
    "state = deepcopy(S)\n",
    "for action in Actions:\n",
    "    state = move(state, action)\n",
    "\n",
    "msg = ''\n",
    "for i in range(n):\n",
    "    msg += ' '.join(state[i][0])\n",
    "\n",
    "print(msg)\n"
   ]
  }
 ],
 "metadata": {
  "kernelspec": {
   "display_name": "Python 3.10.6 64-bit ('3.10.6')",
   "language": "python",
   "name": "python3"
  },
  "language_info": {
   "codemirror_mode": {
    "name": "ipython",
    "version": 3
   },
   "file_extension": ".py",
   "mimetype": "text/x-python",
   "name": "python",
   "nbconvert_exporter": "python",
   "pygments_lexer": "ipython3",
   "version": "3.10.6"
  },
  "orig_nbformat": 4,
  "vscode": {
   "interpreter": {
    "hash": "2b756ddc43d68246ce63911f0d52e825da4eb80d904e20dbdcc34bf6f90418c2"
   }
  }
 },
 "nbformat": 4,
 "nbformat_minor": 2
}
