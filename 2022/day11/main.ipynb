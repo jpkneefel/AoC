{
 "cells": [
  {
   "cell_type": "code",
   "execution_count": 3,
   "metadata": {
    "tags": []
   },
   "outputs": [
    {
     "data": {
      "application/vnd.jupyter.widget-view+json": {
       "model_id": "1dc057cb749245dfa4852542ad47c209",
       "version_major": 2,
       "version_minor": 0
      },
      "text/plain": [
       "Select(description='Input file:', index=1, options=('in.txt', 'ex1.txt'), rows=4, value='ex1.txt')"
      ]
     },
     "metadata": {},
     "output_type": "display_data"
    }
   ],
   "source": [
    "from IPython.display import display\n",
    "import ipywidgets as widgets\n",
    "from os import listdir\n",
    "from os.path import isfile, join\n",
    "import re\n",
    "import numpy as np\n",
    "from enum import Enum\n",
    "from copy import deepcopy\n",
    "from pprint import pprint\n",
    "from functools import reduce\n",
    "from time import time\n",
    "from queue import PriorityQueue\n",
    "\n",
    "def print_mat(mat):\n",
    "    for row in mat:\n",
    "        print(''.join(row))\n",
    "\n",
    "files = [f for f in listdir('.') if isfile(join('.', f))]\n",
    "pat = re.compile('(ex(\\d)+.txt)|(in(\\d)*.txt)')\n",
    "files = [f for f in files if pat.match(f)]\n",
    "\n",
    "box = widgets.Select(\n",
    "    options=files,\n",
    "    value='ex1.txt',\n",
    "    rows=4,\n",
    "    description='Input file:',\n",
    "    disabled=False\n",
    ")\n",
    "\n",
    "display(box)\n"
   ]
  },
  {
   "cell_type": "markdown",
   "metadata": {},
   "source": [
    "## Parse file"
   ]
  },
  {
   "cell_type": "code",
   "execution_count": 26,
   "metadata": {},
   "outputs": [
    {
     "name": "stdout",
     "output_type": "stream",
     "text": [
      "Done parsing \"in.txt\"\n"
     ]
    }
   ],
   "source": [
    "name = box.value\n",
    "f = open(name, 'r')\n",
    "lines = f.readlines()\n",
    "lines = list(map(lambda l: l.rstrip(), lines))\n",
    "\n",
    "\n",
    "# TODO: Parse the input\n",
    "\n",
    "class Operation:\n",
    "    def __init__(self, line):\n",
    "        t = line.split()[3:]\n",
    "        f = None\n",
    "        if t[0] == '*':\n",
    "            if t[1] == \"old\":\n",
    "                self.operator = lambda x: x * x\n",
    "            else:\n",
    "                self.operator = lambda x: x * int(t[1])\n",
    "        elif t[0] == '+':\n",
    "            if t[1] == \"old\":\n",
    "                self.operator = lambda x: x + x\n",
    "            else:\n",
    "                self.operator = lambda x: x + int(t[1])\n",
    "\n",
    "    def call(self, old):\n",
    "        return self.operator(old)\n",
    "\n",
    "\n",
    "class Monkey:\n",
    "    def __init__(self, items, operation, test):\n",
    "        self.items = items\n",
    "        self.operation = operation\n",
    "        self.test = test\n",
    "        self.inspected = 0\n",
    "\n",
    "\n",
    "Monkeys = []\n",
    "mod = 1\n",
    "i = 0\n",
    "while i < len(lines):\n",
    "    items = list(map(int, lines[i+1][18:].split(\", \")))\n",
    "    operation = Operation(lines[i+2][13:])\n",
    "    test = (int(lines[i+3][20:]),\n",
    "            int(lines[i+4][29:]),\n",
    "            int(lines[i+5][30:]))\n",
    "    mod *= test[0]\n",
    "    Monkeys.append(Monkey(items, operation, test))\n",
    "\n",
    "    i += 7\n",
    "\n",
    "\n",
    "print(\"Done parsing \\\"{name}\\\"\".format(name=name))\n"
   ]
  },
  {
   "cell_type": "markdown",
   "metadata": {},
   "source": [
    "### Part 1"
   ]
  },
  {
   "cell_type": "code",
   "execution_count": 11,
   "metadata": {},
   "outputs": [
    {
     "data": {
      "text/plain": [
       "10605"
      ]
     },
     "execution_count": 11,
     "metadata": {},
     "output_type": "execute_result"
    }
   ],
   "source": [
    "M = deepcopy(Monkeys)\n",
    "\n",
    "for r in range(20):\n",
    "    for m in M:\n",
    "        while len(m.items) > 0:\n",
    "            item = m.items.pop(0)\n",
    "            item = m.operation.call(item)\n",
    "            m.inspected += 1\n",
    "            item = item // 3\n",
    "            x, a, b = m.test\n",
    "            if item % x == 0:\n",
    "                M[a].items.append(item)\n",
    "            else:\n",
    "                M[b].items.append(item)\n",
    "\n",
    "    # print(\"After round {}:\".format(r+1))\n",
    "    # for i in range(len(M)):\n",
    "        # m = M[i]\n",
    "        # print(\"Monkey {}: {}\".format(i, m.inspected))\n",
    "\n",
    "I = list(map(lambda m: m.inspected, M))\n",
    "I.sort()\n",
    "I = np.array(I[::-1])\n",
    "I[:2].prod()"
   ]
  },
  {
   "cell_type": "markdown",
   "metadata": {},
   "source": [
    "### Part 2"
   ]
  },
  {
   "cell_type": "code",
   "execution_count": 27,
   "metadata": {},
   "outputs": [
    {
     "data": {
      "text/plain": [
       "14952185856"
      ]
     },
     "execution_count": 27,
     "metadata": {},
     "output_type": "execute_result"
    }
   ],
   "source": [
    "M = deepcopy(Monkeys)\n",
    "\n",
    "F = []\n",
    "for m in M:\n",
    "    F.append(np.vectorize(lambda x: m.operation.operator(x) % mod))\n",
    "\n",
    "G = []\n",
    "for m in M:\n",
    "    G.append(np.vectorize(lambda x: x % m.test[0]))\n",
    "\n",
    "for r in range(10_000):\n",
    "    for (m, f, g) in zip(M, F, G):\n",
    "        if len(m.items) == 0:\n",
    "            continue\n",
    "        m.items = f(m.items)\n",
    "        m.inspected += len(m.items)\n",
    "        test = g(m.items)\n",
    "        _, a, b = m.test\n",
    "        M[a].items = np.append(M[a].items, m.items[test == 0])\n",
    "        M[b].items = np.append(M[b].items, m.items[test != 0])\n",
    "        m.items = []\n",
    "        \n",
    "\n",
    "I = list(map(lambda m: m.inspected, M))\n",
    "I.sort()\n",
    "I = np.array(I[::-1])\n",
    "I[:2].prod()\n"
   ]
  }
 ],
 "metadata": {
  "kernelspec": {
   "display_name": "Python 3",
   "language": "python",
   "name": "python3"
  },
  "language_info": {
   "codemirror_mode": {
    "name": "ipython",
    "version": 3
   },
   "file_extension": ".py",
   "mimetype": "text/x-python",
   "name": "python",
   "nbconvert_exporter": "python",
   "pygments_lexer": "ipython3",
   "version": "3.10.6"
  },
  "orig_nbformat": 4,
  "vscode": {
   "interpreter": {
    "hash": "2b756ddc43d68246ce63911f0d52e825da4eb80d904e20dbdcc34bf6f90418c2"
   }
  }
 },
 "nbformat": 4,
 "nbformat_minor": 2
}
