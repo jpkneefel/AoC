{
 "cells": [
  {
   "cell_type": "code",
   "execution_count": 20,
   "metadata": {
    "tags": []
   },
   "outputs": [
    {
     "data": {
      "application/vnd.jupyter.widget-view+json": {
       "model_id": "a32f2dbcb6ae4454b92004fabe21161c",
       "version_major": 2,
       "version_minor": 0
      },
      "text/plain": [
       "Select(description='Input file:', index=1, options=('in.txt', 'ex1.txt'), rows=4, value='ex1.txt')"
      ]
     },
     "metadata": {},
     "output_type": "display_data"
    }
   ],
   "source": [
    "from IPython.display import display\n",
    "import ipywidgets as widgets\n",
    "from os import listdir\n",
    "from os.path import isfile, join\n",
    "import re\n",
    "import numpy as np\n",
    "from enum import Enum\n",
    "from copy import deepcopy\n",
    "from pprint import pprint\n",
    "from functools import reduce\n",
    "from time import time\n",
    "\n",
    "def print_mat(mat):\n",
    "    for row in mat:\n",
    "        print(''.join(row))\n",
    "\n",
    "files = [f for f in listdir('.') if isfile(join('.', f))]\n",
    "pat = re.compile('(ex(\\d)+.txt)|(in(\\d)*.txt)')\n",
    "files = [f for f in files if pat.match(f)]\n",
    "\n",
    "box = widgets.Select(\n",
    "    options=files,\n",
    "    value='ex1.txt',\n",
    "    rows=4,\n",
    "    description='Input file:',\n",
    "    disabled=False\n",
    ")\n",
    "\n",
    "display(box)\n"
   ]
  },
  {
   "cell_type": "markdown",
   "metadata": {},
   "source": [
    "## Parse file"
   ]
  },
  {
   "cell_type": "code",
   "execution_count": 21,
   "metadata": {},
   "outputs": [
    {
     "name": "stdout",
     "output_type": "stream",
     "text": [
      "Done parsing \"in.txt\"\n"
     ]
    }
   ],
   "source": [
    "name = box.value\n",
    "f = open(name, 'r')\n",
    "lines = f.readlines()\n",
    "lines = list(map(lambda l: l.rstrip(), lines))\n",
    "\n",
    "\n",
    "# TODO: Parse the input\n",
    "\n",
    "\n",
    "print(\"Done parsing \\\"{name}\\\"\".format(name=name))\n"
   ]
  },
  {
   "cell_type": "markdown",
   "metadata": {},
   "source": [
    "### Part 1"
   ]
  },
  {
   "cell_type": "code",
   "execution_count": 14,
   "metadata": {},
   "outputs": [
    {
     "name": "stdout",
     "output_type": "stream",
     "text": [
      "13140\n"
     ]
    }
   ],
   "source": [
    "CYCLES = [int(20 + x * 40)for x in range(6)]\n",
    "\n",
    "x = 1\n",
    "c = 1\n",
    "S = []\n",
    "for line in lines:\n",
    "    if line[:4] == \"noop\":\n",
    "        if c+1 in CYCLES:\n",
    "            S.append(x * (c+1))\n",
    "        c += 1\n",
    "    else:\n",
    "        dx = int(line[5:])\n",
    "        if c+1 in CYCLES:\n",
    "            S.append(x * (c+1))\n",
    "        x += dx\n",
    "        if c+2 in CYCLES:\n",
    "            S.append(x * (c+2))\n",
    "        c += 2\n",
    "\n",
    "print(sum(S))\n"
   ]
  },
  {
   "cell_type": "markdown",
   "metadata": {},
   "source": [
    "### Part 2"
   ]
  },
  {
   "cell_type": "code",
   "execution_count": 22,
   "metadata": {},
   "outputs": [
    {
     "name": "stdout",
     "output_type": "stream",
     "text": [
      "####..##....##..##..###....##.###..####.\n",
      "#....#..#....#.#..#.#..#....#.#..#.#....\n",
      "###..#.......#.#..#.#..#....#.#..#.###..\n",
      "#....#.......#.####.###.....#.###..#....\n",
      "#....#..#.#..#.#..#.#....#..#.#.#..#....\n",
      "#.....##...##..#..#.#.....##..#..#.####.\n"
     ]
    }
   ],
   "source": [
    "def get_instr(i, queue):\n",
    "    if len(queue) > 0:\n",
    "        instr = queue.pop(0)\n",
    "        if instr[:4] == \"noop\":\n",
    "            return (i+1, 0)\n",
    "        else:\n",
    "            return (i+2, int(instr[5:]))\n",
    "    else:\n",
    "        return (None, None)\n",
    "\n",
    "\n",
    "CRT = np.full((6, 40), \".\")\n",
    "\n",
    "queue = deepcopy(lines)\n",
    "addx = get_instr(0, queue)\n",
    "x = 1\n",
    "for i in range(240):\n",
    "    c, dx = addx\n",
    "    if c != None and c == i:\n",
    "        x += dx\n",
    "        addx = get_instr(i, queue)\n",
    "        \n",
    "    u = i % 40\n",
    "    v = i // 40\n",
    "    CRT[v][u] = \"#\" if u in range(x-1,x+2) else \".\"\n",
    "    \n",
    "print_mat(CRT)\n"
   ]
  }
 ],
 "metadata": {
  "kernelspec": {
   "display_name": "Python 3",
   "language": "python",
   "name": "python3"
  },
  "language_info": {
   "codemirror_mode": {
    "name": "ipython",
    "version": 3
   },
   "file_extension": ".py",
   "mimetype": "text/x-python",
   "name": "python",
   "nbconvert_exporter": "python",
   "pygments_lexer": "ipython3",
   "version": "3.10.6"
  },
  "orig_nbformat": 4,
  "vscode": {
   "interpreter": {
    "hash": "2b756ddc43d68246ce63911f0d52e825da4eb80d904e20dbdcc34bf6f90418c2"
   }
  }
 },
 "nbformat": 4,
 "nbformat_minor": 2
}
