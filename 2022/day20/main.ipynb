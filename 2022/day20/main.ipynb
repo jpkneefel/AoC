{
 "cells": [
  {
   "cell_type": "code",
   "execution_count": 32,
   "metadata": {
    "tags": []
   },
   "outputs": [
    {
     "data": {
      "application/vnd.jupyter.widget-view+json": {
       "model_id": "d04d9e68d8c34e5b867464cdb28e8228",
       "version_major": 2,
       "version_minor": 0
      },
      "text/plain": [
       "Select(description='Input file:', index=1, options=('in.txt', 'ex1.txt'), rows=4, value='ex1.txt')"
      ]
     },
     "metadata": {},
     "output_type": "display_data"
    }
   ],
   "source": [
    "from IPython.display import display\n",
    "import ipywidgets as widgets\n",
    "from os import listdir\n",
    "from os.path import isfile, join\n",
    "import re\n",
    "import numpy as np\n",
    "from enum import Enum\n",
    "from copy import deepcopy\n",
    "from pprint import pprint\n",
    "from functools import reduce, cmp_to_key\n",
    "from itertools import groupby, combinations, permutations\n",
    "from time import time\n",
    "from queue import PriorityQueue\n",
    "from math import prod, ceil, comb, perm\n",
    "from collections import defaultdict\n",
    "from dataclasses import dataclass\n",
    "from bisect import insort\n",
    "import string\n",
    "\n",
    "files = [f for f in listdir('.') if isfile(join('.', f))]\n",
    "pat = re.compile('(ex(\\d)+.txt)|(in(\\d)*.txt)')\n",
    "files = [f for f in files if pat.match(f)]\n",
    "\n",
    "box = widgets.Select(\n",
    "    options=files,\n",
    "    value='ex1.txt',\n",
    "    rows=4,\n",
    "    description='Input file:',\n",
    "    disabled=False\n",
    ")\n",
    "\n",
    "display(box)\n"
   ]
  },
  {
   "cell_type": "markdown",
   "metadata": {},
   "source": [
    "## Parse file"
   ]
  },
  {
   "cell_type": "code",
   "execution_count": 37,
   "metadata": {},
   "outputs": [
    {
     "name": "stdout",
     "output_type": "stream",
     "text": [
      "Done parsing \"in.txt\"\n"
     ]
    }
   ],
   "source": [
    "lines = list(map(lambda l: l.rstrip(), open(box.value, 'r').readlines()))\n",
    "\n",
    "X = np.array(list(map(int, lines)))\n",
    "\n",
    "print(\"Done parsing \\\"{name}\\\"\".format(name=box.value))\n"
   ]
  },
  {
   "cell_type": "markdown",
   "metadata": {},
   "source": [
    "### Part 1"
   ]
  },
  {
   "cell_type": "code",
   "execution_count": 38,
   "metadata": {},
   "outputs": [],
   "source": [
    "def insert(C, i, l, r):\n",
    "    C[l][1] = i\n",
    "    C[r][0] = i\n",
    "    C[i] = [l, r]\n",
    "\n",
    "\n",
    "def join(C, l, r):\n",
    "    C[l][1] = r\n",
    "    C[r][0] = l\n",
    "\n",
    "\n",
    "def decrypt(E, iter, KEY):\n",
    "    C = {}\n",
    "    n = len(E)\n",
    "    X = list(map(lambda x: x * KEY, E))\n",
    "\n",
    "    for i in range(n):\n",
    "        C[i] = [(i-1) % n, (i+1) % n]\n",
    "\n",
    "    for k in range(iter):\n",
    "        for i in range(n):\n",
    "            x = X[i] % (n-1)\n",
    "            if x == 0:\n",
    "                continue\n",
    "\n",
    "            l, r = C[i]\n",
    "            join(C, l, r)\n",
    "            j = i\n",
    "            left = x < 0\n",
    "            while x != 0:\n",
    "                if x < 0:\n",
    "                    j = C[j][0]\n",
    "                    x += 1\n",
    "                else:\n",
    "                    j = C[j][1]\n",
    "                    x -= 1\n",
    "\n",
    "            if left:\n",
    "                insert(C, i, C[j][0], j)\n",
    "            else:\n",
    "                insert(C, i, j, C[j][1])\n",
    "\n",
    "    i = np.where(E == 0)[0][0]\n",
    "    R = [X[i]]\n",
    "    for _ in range(n-1):\n",
    "        i = C[i][1]\n",
    "        R.append(X[i])\n",
    "\n",
    "    return sum([R[i % n] for i in [1000, 2000, 3000]])\n"
   ]
  },
  {
   "cell_type": "code",
   "execution_count": 39,
   "metadata": {},
   "outputs": [
    {
     "name": "stdout",
     "output_type": "stream",
     "text": [
      "7153\n"
     ]
    }
   ],
   "source": [
    "print(decrypt(X, 1, 1))\n"
   ]
  },
  {
   "cell_type": "markdown",
   "metadata": {},
   "source": [
    "### Part 2"
   ]
  },
  {
   "cell_type": "code",
   "execution_count": 40,
   "metadata": {},
   "outputs": [
    {
     "name": "stdout",
     "output_type": "stream",
     "text": [
      "6146976244822\n"
     ]
    }
   ],
   "source": [
    "KEY = 811589153\n",
    "print(decrypt(X, 10, KEY))\n"
   ]
  }
 ],
 "metadata": {
  "kernelspec": {
   "display_name": "Python 3.10.6 64-bit ('3.10.6')",
   "language": "python",
   "name": "python3"
  },
  "language_info": {
   "codemirror_mode": {
    "name": "ipython",
    "version": 3
   },
   "file_extension": ".py",
   "mimetype": "text/x-python",
   "name": "python",
   "nbconvert_exporter": "python",
   "pygments_lexer": "ipython3",
   "version": "3.10.6"
  },
  "orig_nbformat": 4,
  "vscode": {
   "interpreter": {
    "hash": "2b756ddc43d68246ce63911f0d52e825da4eb80d904e20dbdcc34bf6f90418c2"
   }
  }
 },
 "nbformat": 4,
 "nbformat_minor": 2
}
