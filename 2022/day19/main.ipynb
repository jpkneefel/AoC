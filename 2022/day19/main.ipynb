{
 "cells": [
  {
   "cell_type": "code",
   "execution_count": 128,
   "metadata": {
    "tags": []
   },
   "outputs": [
    {
     "data": {
      "application/vnd.jupyter.widget-view+json": {
       "model_id": "4857ae0be7d24f21bbbbc3211a465dda",
       "version_major": 2,
       "version_minor": 0
      },
      "text/plain": [
       "Select(description='Input file:', index=1, options=('in.txt', 'ex1.txt'), rows=4, value='ex1.txt')"
      ]
     },
     "metadata": {},
     "output_type": "display_data"
    }
   ],
   "source": [
    "from IPython.display import display\n",
    "import ipywidgets as widgets\n",
    "from os import listdir\n",
    "from os.path import isfile, join\n",
    "import re\n",
    "import numpy as np\n",
    "from enum import Enum\n",
    "from copy import deepcopy\n",
    "from pprint import pprint\n",
    "from functools import reduce, cmp_to_key\n",
    "from itertools import groupby, combinations, permutations\n",
    "from time import time\n",
    "from queue import PriorityQueue\n",
    "from math import prod, ceil, comb, perm\n",
    "from collections import defaultdict\n",
    "from dataclasses import dataclass\n",
    "from bisect import insort\n",
    "import string\n",
    "\n",
    "files = [f for f in listdir('.') if isfile(join('.', f))]\n",
    "pat = re.compile('(ex(\\d)+.txt)|(in(\\d)*.txt)')\n",
    "files = [f for f in files if pat.match(f)]\n",
    "\n",
    "box = widgets.Select(\n",
    "    options=files,\n",
    "    value='ex1.txt',\n",
    "    rows=4,\n",
    "    description='Input file:',\n",
    "    disabled=False\n",
    ")\n",
    "\n",
    "display(box)\n"
   ]
  },
  {
   "cell_type": "markdown",
   "metadata": {},
   "source": [
    "## Parse file"
   ]
  },
  {
   "cell_type": "code",
   "execution_count": 134,
   "metadata": {},
   "outputs": [
    {
     "name": "stdout",
     "output_type": "stream",
     "text": [
      "Done parsing \"in.txt\"\n"
     ]
    }
   ],
   "source": [
    "lines = list(map(lambda l: l.rstrip(), open(box.value, 'r').readlines()))\n",
    "lines = sum([re.split(':|\\.', line) for line in lines], [])\n",
    "\n",
    "p_ore = re.compile('(\\d+) ore')\n",
    "p_clay = re.compile('(\\d+) clay')\n",
    "p_obsidian = re.compile('(\\d+) obsidian')\n",
    "\n",
    "B = []\n",
    "M = []\n",
    "i = 1\n",
    "while i < len(lines):\n",
    "    b = {}\n",
    "    m = (0,0,0)\n",
    "    for j, x in enumerate(['ore', 'clay', 'obsidian', 'geode']):\n",
    "        ore, clay, obsidian = (0, 0, 0)\n",
    "        pat = p_ore.search(lines[i+j])\n",
    "        if pat:\n",
    "            ore = int(pat.groups()[0])\n",
    "        pat = p_clay.search(lines[i+j])\n",
    "        if pat:\n",
    "            clay = int(pat.groups()[0])\n",
    "        pat = p_obsidian.search(lines[i+j])\n",
    "        if pat:\n",
    "            obsidian = int(pat.groups()[0])\n",
    "        b[x] = (ore, clay, obsidian)\n",
    "        m = (max(m[0], ore), max(m[1], clay), max(m[2], obsidian))\n",
    "    B.append(b)\n",
    "    M.append(m)\n",
    "    i += 6\n",
    "\n",
    "print(\"Done parsing \\\"{name}\\\"\".format(name=box.value))\n"
   ]
  },
  {
   "cell_type": "markdown",
   "metadata": {},
   "source": [
    "### Part 1"
   ]
  },
  {
   "cell_type": "code",
   "execution_count": 135,
   "metadata": {},
   "outputs": [],
   "source": [
    "@dataclass\n",
    "class Resources:\n",
    "    ore: int\n",
    "    clay: int\n",
    "    obsidian: int\n",
    "    geode: int\n",
    "\n",
    "    def __hash__(self):\n",
    "        return hash((self.ore, self.clay, self.obsidian, self.geode))\n",
    "\n",
    "\n",
    "@dataclass\n",
    "class Robots:\n",
    "    ore: int\n",
    "    clay: int\n",
    "    obsidian: int\n",
    "    geode: int\n",
    "\n",
    "    def __hash__(self):\n",
    "        return hash((self.ore, self.clay, self.obsidian, self.geode))\n",
    "\n",
    "\n",
    "class State:\n",
    "    def __init__(self, t: int, robots: Robots, resources: Resources):\n",
    "        self.t = t\n",
    "        self.robots = robots\n",
    "        self.resources = resources\n",
    "\n",
    "    def produce(self):\n",
    "        self.resources.ore += self.robots.ore\n",
    "        self.resources.clay += self.robots.clay\n",
    "        self.resources.obsidian += self.robots.obsidian\n",
    "        self.resources.geode += self.robots.geode\n",
    "\n",
    "    def branch(self):\n",
    "        branches = []\n",
    "        blacklist = []\n",
    "        for name in self.possible_builds():\n",
    "            b = deepcopy(self)\n",
    "            b.build(name)\n",
    "            b.wait([])\n",
    "            setattr(b.resources, name, getattr(b.resources, name) - 1)\n",
    "            branches.append(b)\n",
    "            blacklist.append(name)\n",
    "        wait = deepcopy(self)\n",
    "        wait.wait(blacklist)\n",
    "        branches.append(wait)\n",
    "        return branches\n",
    "\n",
    "    def wait(self, blacklist):\n",
    "        while True:\n",
    "            self.t -= 1\n",
    "            self.produce()\n",
    "            if self.t == 0:\n",
    "                break\n",
    "            if len(set(self.possible_builds()) - set(blacklist)) > 0:\n",
    "                break\n",
    "\n",
    "    def possible_builds(self):\n",
    "        builds = []\n",
    "        for name, (ore, clay, obsidian) in list(State.blueprint.items())[::-1]:\n",
    "            if ore <= self.resources.ore \\\n",
    "                    and clay <= self.resources.clay\\\n",
    "                    and obsidian <= self.resources.obsidian\\\n",
    "                    and self.robots.ore <= State.maximum[0]\\\n",
    "                    and self.robots.clay <= State.maximum[1]\\\n",
    "                    and self.robots.obsidian <= State.maximum[2]:\n",
    "                builds.append(name)\n",
    "                if name == 'geode':\n",
    "                    break\n",
    "                if name == 'obsidian' and self.t < 15:\n",
    "                    break\n",
    "\n",
    "        return builds\n",
    "\n",
    "    def build(self, name):\n",
    "        ore, clay, obsidian = State.blueprint[name]\n",
    "        self.resources.ore -= ore\n",
    "        self.resources.clay -= clay\n",
    "        self.resources.obsidian -= obsidian\n",
    "        setattr(self.robots, name, getattr(self.robots, name) + 1)\n",
    "\n",
    "    def __lt__(self, other):\n",
    "        if self.t == other.t:\n",
    "            return self.robots.obsidian < other.robots.obsidian\n",
    "        return self.t < other.t\n",
    "\n",
    "    def __hash__(self):\n",
    "        return hash((self.t, self.robots, self.resources))\n",
    "\n",
    "    def __repr__(self):\n",
    "        return f\"t={self.t}\\nrobots={self.robots}\\nresources={self.resources}\\n\"\n"
   ]
  },
  {
   "cell_type": "code",
   "execution_count": 136,
   "metadata": {},
   "outputs": [],
   "source": [
    "def quality(i, time, blueprint, maximum):\n",
    "    State.blueprint = blueprint\n",
    "    State.maximum = maximum\n",
    "    robots = Robots(1, 0, 0, 0)\n",
    "    resources = Resources(0, 0, 0, 0)\n",
    "    START = State(time, robots, resources)\n",
    "    Q = [START]\n",
    "    V = set()\n",
    "    maxg = 0\n",
    "\n",
    "    while len(Q) > 0:\n",
    "        state = Q.pop()\n",
    "        if state.resources.geode < maxg:\n",
    "            continue\n",
    "        maxg = max(maxg, state.resources.geode)\n",
    "\n",
    "        if state in V:\n",
    "            continue\n",
    "        else:\n",
    "            V.add(state)\n",
    "\n",
    "        if state.t == 0:\n",
    "            continue\n",
    "\n",
    "        for b in state.branch():\n",
    "            insort(Q, b)\n",
    "\n",
    "    return maxg * i\n"
   ]
  },
  {
   "cell_type": "code",
   "execution_count": 137,
   "metadata": {},
   "outputs": [
    {
     "name": "stdout",
     "output_type": "stream",
     "text": [
      "2193\n"
     ]
    }
   ],
   "source": [
    "import multiprocess as mp\n",
    "\n",
    "with mp.Pool(5) as pool:\n",
    "    results = pool.starmap(\n",
    "        quality, [(i+1, 24, B[i], M[i]) for i in range(len(B))])\n",
    "\n",
    "print(sum(results))\n"
   ]
  },
  {
   "cell_type": "markdown",
   "metadata": {},
   "source": [
    "### Part 2"
   ]
  },
  {
   "cell_type": "code",
   "execution_count": 138,
   "metadata": {},
   "outputs": [
    {
     "name": "stdout",
     "output_type": "stream",
     "text": [
      "7200\n"
     ]
    }
   ],
   "source": [
    "import multiprocess as mp\n",
    "\n",
    "N = 2 if box.value == \"ex1.txt\" else 3\n",
    "with mp.Pool(5) as pool:\n",
    "    results = pool.starmap(quality, [(1, 32, B[i], M[i]) for i in range(N)])\n",
    "\n",
    "print(prod(results))\n"
   ]
  }
 ],
 "metadata": {
  "kernelspec": {
   "display_name": "Python 3.10.6 64-bit ('3.10.6')",
   "language": "python",
   "name": "python3"
  },
  "language_info": {
   "codemirror_mode": {
    "name": "ipython",
    "version": 3
   },
   "file_extension": ".py",
   "mimetype": "text/x-python",
   "name": "python",
   "nbconvert_exporter": "python",
   "pygments_lexer": "ipython3",
   "version": "3.10.6"
  },
  "orig_nbformat": 4,
  "vscode": {
   "interpreter": {
    "hash": "2b756ddc43d68246ce63911f0d52e825da4eb80d904e20dbdcc34bf6f90418c2"
   }
  }
 },
 "nbformat": 4,
 "nbformat_minor": 2
}
