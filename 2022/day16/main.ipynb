{
 "cells": [
  {
   "cell_type": "code",
   "execution_count": 87,
   "metadata": {
    "tags": []
   },
   "outputs": [
    {
     "data": {
      "application/vnd.jupyter.widget-view+json": {
       "model_id": "44f01961fdde421789ae96c69a340cae",
       "version_major": 2,
       "version_minor": 0
      },
      "text/plain": [
       "Select(description='Input file:', index=1, options=('in.txt', 'ex1.txt'), rows=4, value='ex1.txt')"
      ]
     },
     "metadata": {},
     "output_type": "display_data"
    }
   ],
   "source": [
    "from IPython.display import display\n",
    "import ipywidgets as widgets\n",
    "from os import listdir\n",
    "from os.path import isfile, join\n",
    "import re\n",
    "import numpy as np\n",
    "from enum import Enum\n",
    "from copy import deepcopy\n",
    "from pprint import pprint\n",
    "from functools import reduce, cmp_to_key\n",
    "from itertools import groupby, combinations, permutations\n",
    "from time import time\n",
    "from queue import PriorityQueue\n",
    "from math import prod, ceil, comb, perm\n",
    "from collections import defaultdict\n",
    "import string\n",
    "\n",
    "\n",
    "def print_mat(mat):\n",
    "    for row in mat:\n",
    "        print(''.join(row))\n",
    "\n",
    "\n",
    "files = [f for f in listdir('.') if isfile(join('.', f))]\n",
    "pat = re.compile('(ex(\\d)+.txt)|(in(\\d)*.txt)')\n",
    "files = [f for f in files if pat.match(f)]\n",
    "\n",
    "box = widgets.Select(\n",
    "    options=files,\n",
    "    value='ex1.txt',\n",
    "    rows=4,\n",
    "    description='Input file:',\n",
    "    disabled=False\n",
    ")\n",
    "\n",
    "display(box)\n"
   ]
  },
  {
   "cell_type": "markdown",
   "metadata": {},
   "source": [
    "## Parse file"
   ]
  },
  {
   "cell_type": "code",
   "execution_count": 91,
   "metadata": {},
   "outputs": [
    {
     "name": "stdout",
     "output_type": "stream",
     "text": [
      "Done parsing \"in.txt\"\n"
     ]
    }
   ],
   "source": [
    "lines = list(map(lambda l: l.rstrip(), open(box.value, 'r').readlines()))\n",
    "\n",
    "label = re.compile('([A-Z][A-Z])')\n",
    "rate = re.compile('rate=(\\d+)')\n",
    "labels  = [label.findall(line) for line in lines]\n",
    "rates = [int(rate.search(line).groups()[0]) for line in lines]\n",
    "V = {l[0]: l[1:] for l in labels}\n",
    "R = {l[0]: r for l, r in zip(labels, rates)}\n",
    "\n",
    "print(\"Done parsing \\\"{name}\\\"\".format(name=box.value))\n"
   ]
  },
  {
   "cell_type": "markdown",
   "metadata": {},
   "source": [
    "### Part 1"
   ]
  },
  {
   "cell_type": "code",
   "execution_count": 92,
   "metadata": {},
   "outputs": [
    {
     "name": "stdout",
     "output_type": "stream",
     "text": [
      "1792\n"
     ]
    }
   ],
   "source": [
    "def dist(a):\n",
    "    Q = [a]\n",
    "    D = {a: 0}\n",
    "    while Q:\n",
    "        x = Q.pop(0)\n",
    "        for y in V[x]:\n",
    "            if y not in D:\n",
    "                D[y] = D[x] + 1\n",
    "                Q.append(y)\n",
    "    return D\n",
    "\n",
    "\n",
    "def heuristic(p, t, Y):\n",
    "    r = np.array(sorted(map(R.get, Y), reverse=True))\n",
    "    T = np.full(len(r), t) - np.insert(np.cumsum(np.full(len(r)-1, 2)), 0, 0)\n",
    "    T[T < 0] = 0\n",
    "    return np.sum(-r * T) + p\n",
    "\n",
    "\n",
    "D = {}\n",
    "for x in V:\n",
    "    for y, d in dist(x).items():\n",
    "        D[(x, y)] = d\n",
    "    D[(\"\", x)] = 0\n",
    "    D[(x, \"\")] = 0\n",
    "\n",
    "\n",
    "remaining = [v for v in V if R[v] > 0]\n",
    "Q = PriorityQueue()\n",
    "Q.put((0, (30, 'AA', remaining)))\n",
    "minp = 0\n",
    "visited = set()\n",
    "\n",
    "while not Q.empty():\n",
    "    p, state = Q.get()\n",
    "    t, X, Y = state\n",
    "    visited.add(X)\n",
    "    minp = min(minp, p)\n",
    "    if t <= 0 or len(Y) == 0:\n",
    "        continue\n",
    "    h = heuristic(p, t, Y)\n",
    "    if h <= minp:\n",
    "        for i in range(len(Y)):\n",
    "            y = Y[i]\n",
    "            if R[y] == 0:\n",
    "                continue\n",
    "            if X + y not in visited:\n",
    "                nt = t - D[(X[-2:], y)] - 1\n",
    "                Q.put((p - R[y] * nt, (nt, X + y, Y[:i] + Y[i+1:])))\n",
    "\n",
    "pprint(abs(minp))\n"
   ]
  },
  {
   "cell_type": "markdown",
   "metadata": {},
   "source": [
    "### Part 2"
   ]
  },
  {
   "cell_type": "code",
   "execution_count": 93,
   "metadata": {},
   "outputs": [
    {
     "name": "stdout",
     "output_type": "stream",
     "text": [
      "2587\n"
     ]
    }
   ],
   "source": [
    "T = {}\n",
    "remaining = [v for v in V if R[v] > 0]\n",
    "Q = PriorityQueue()\n",
    "Q.put((0, (26, 'AA', remaining)))\n",
    "minp = 0\n",
    "visited = set()\n",
    "\n",
    "while not Q.empty():\n",
    "    p, state = Q.get()\n",
    "    t, X, Y = state\n",
    "    path = set(list(zip(X[::2], X[1::2])))\n",
    "    T[X] = (abs(p), path)\n",
    "    visited.add(X)\n",
    "    minp = min(minp, p)\n",
    "    if t <= 0 or len(Y) == 0:\n",
    "        continue\n",
    "    h = heuristic(p, t, Y)\n",
    "    if h <= minp:\n",
    "        for i in range(len(Y)):\n",
    "            y = Y[i]\n",
    "            if R[y] == 0:\n",
    "                continue\n",
    "            if X + y not in visited:\n",
    "                nt = t - D[(X[-2:], y)] - 1\n",
    "                Q.put((p - R[y] * nt, (nt, X + y, Y[:i] + Y[i+1:])))\n",
    "\n",
    "\n",
    "T = sorted(list(T.values()), key=lambda t: t[0])[::-1]\n",
    "\n",
    "best = 0\n",
    "for (x, p1) in T:\n",
    "    for (y, p2) in T:\n",
    "        if len(p1.intersection(p2)) > 1:\n",
    "            continue\n",
    "\n",
    "        p = x + y\n",
    "        best = max(best, p)\n",
    "        break\n",
    "\n",
    "pprint(best)\n"
   ]
  }
 ],
 "metadata": {
  "kernelspec": {
   "display_name": "Python 3.10.6 64-bit ('3.10.6')",
   "language": "python",
   "name": "python3"
  },
  "language_info": {
   "codemirror_mode": {
    "name": "ipython",
    "version": 3
   },
   "file_extension": ".py",
   "mimetype": "text/x-python",
   "name": "python",
   "nbconvert_exporter": "python",
   "pygments_lexer": "ipython3",
   "version": "3.10.6"
  },
  "orig_nbformat": 4,
  "vscode": {
   "interpreter": {
    "hash": "2b756ddc43d68246ce63911f0d52e825da4eb80d904e20dbdcc34bf6f90418c2"
   }
  }
 },
 "nbformat": 4,
 "nbformat_minor": 2
}
