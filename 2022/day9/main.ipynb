{
 "cells": [
  {
   "cell_type": "code",
   "execution_count": 18,
   "metadata": {
    "tags": []
   },
   "outputs": [
    {
     "data": {
      "application/vnd.jupyter.widget-view+json": {
       "model_id": "d430703ec3114498bf4d19e91430370a",
       "version_major": 2,
       "version_minor": 0
      },
      "text/plain": [
       "Select(description='Input file:', index=2, options=('in.txt', 'ex2.txt', 'ex1.txt'), rows=4, value='ex1.txt')"
      ]
     },
     "metadata": {},
     "output_type": "display_data"
    }
   ],
   "source": [
    "from IPython.display import display\n",
    "import ipywidgets as widgets\n",
    "from os import listdir\n",
    "from os.path import isfile, join\n",
    "import re\n",
    "import numpy as np\n",
    "from enum import Enum\n",
    "from copy import deepcopy\n",
    "from pprint import pprint\n",
    "from functools import reduce\n",
    "from time import time\n",
    "\n",
    "files = [f for f in listdir('.') if isfile(join('.', f))]\n",
    "pat = re.compile('(ex(\\d)+.txt)|(in(\\d)*.txt)')\n",
    "files = [f for f in files if pat.match(f)]\n",
    "\n",
    "box = widgets.Select(\n",
    "    options=files,\n",
    "    value='ex1.txt',\n",
    "    rows=4,\n",
    "    description='Input file:',\n",
    "    disabled=False\n",
    ")\n",
    "\n",
    "display(box)\n"
   ]
  },
  {
   "cell_type": "markdown",
   "metadata": {},
   "source": [
    "## Parse file"
   ]
  },
  {
   "cell_type": "code",
   "execution_count": 26,
   "metadata": {},
   "outputs": [
    {
     "name": "stdout",
     "output_type": "stream",
     "text": [
      "Done parsing \"in.txt\"\n"
     ]
    }
   ],
   "source": [
    "name = box.value\n",
    "f = open(name, 'r')\n",
    "lines = f.readlines()\n",
    "lines = list(map(lambda l: l.rstrip(), lines))\n",
    "\n",
    "\n",
    "# TODO: Parse the input\n",
    "\n",
    "\n",
    "print(\"Done parsing \\\"{name}\\\"\".format(name=name))\n"
   ]
  },
  {
   "cell_type": "markdown",
   "metadata": {},
   "source": [
    "### Part 1"
   ]
  },
  {
   "cell_type": "code",
   "execution_count": 22,
   "metadata": {},
   "outputs": [
    {
     "name": "stdout",
     "output_type": "stream",
     "text": [
      "13\n"
     ]
    }
   ],
   "source": [
    "def move_tail(T, H):\n",
    "    x, y = T\n",
    "    u, v = H\n",
    "\n",
    "    dx = u - x\n",
    "    dy = v - y\n",
    "\n",
    "    if abs(dx) <= 1 and abs(dy) <= 1:\n",
    "        return T\n",
    "    else:\n",
    "        match(abs(dx), abs(dy)):\n",
    "            case(0, _):\n",
    "                return (x, y + np.sign(dy))\n",
    "            case(_, 0):\n",
    "                return (x + np.sign(dx), y)\n",
    "            case(_, _):\n",
    "                return (x + np.sign(dx), y + np.sign(dy))\n",
    "\n",
    "\n",
    "T = (0, 0)\n",
    "H = (0, 0)\n",
    "Path = {}\n",
    "Path[T] = True\n",
    "\n",
    "for line in lines:\n",
    "    dir, n = line.split()\n",
    "    n = int(n)\n",
    "\n",
    "    for _ in range(n):\n",
    "        match dir:\n",
    "            case 'U':\n",
    "                H = (H[0], H[1]+1)\n",
    "            case 'D':\n",
    "                H = (H[0], H[1]-1)\n",
    "            case 'L':\n",
    "                H = (H[0]-1, H[1])\n",
    "            case 'R':\n",
    "                H = (H[0]+1, H[1])\n",
    "        T = move_tail(T, H)\n",
    "        Path[T] = True\n",
    "\n",
    "\n",
    "print(len(Path))\n"
   ]
  },
  {
   "cell_type": "markdown",
   "metadata": {},
   "source": [
    "### Part 2"
   ]
  },
  {
   "cell_type": "code",
   "execution_count": 27,
   "metadata": {},
   "outputs": [
    {
     "name": "stdout",
     "output_type": "stream",
     "text": [
      "2352\n"
     ]
    }
   ],
   "source": [
    "T = [(0, 0) for _ in range(9)]\n",
    "H = (0, 0)\n",
    "Path = {}\n",
    "\n",
    "for line in lines:\n",
    "    dir, n = line.split()\n",
    "    n = int(n)\n",
    "\n",
    "    for _ in range(n):\n",
    "        match dir:\n",
    "            case 'U':\n",
    "                H = (H[0], H[1]+1)\n",
    "            case 'D':\n",
    "                H = (H[0], H[1]-1)\n",
    "            case 'L':\n",
    "                H = (H[0]-1, H[1])\n",
    "            case 'R':\n",
    "                H = (H[0]+1, H[1])\n",
    "\n",
    "        for i in range(9):\n",
    "            prev = H if i == 0 else T[i-1]\n",
    "\n",
    "            T[i] = move_tail(T[i], prev)\n",
    "        Path[T[8]] = True\n",
    "\n",
    "\n",
    "print(len(Path))\n"
   ]
  }
 ],
 "metadata": {
  "kernelspec": {
   "display_name": "Python 3.10.6 64-bit ('3.10.6')",
   "language": "python",
   "name": "python3"
  },
  "language_info": {
   "codemirror_mode": {
    "name": "ipython",
    "version": 3
   },
   "file_extension": ".py",
   "mimetype": "text/x-python",
   "name": "python",
   "nbconvert_exporter": "python",
   "pygments_lexer": "ipython3",
   "version": "3.10.6"
  },
  "orig_nbformat": 4,
  "vscode": {
   "interpreter": {
    "hash": "2b756ddc43d68246ce63911f0d52e825da4eb80d904e20dbdcc34bf6f90418c2"
   }
  }
 },
 "nbformat": 4,
 "nbformat_minor": 2
}
