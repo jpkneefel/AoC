{
 "cells": [
  {
   "cell_type": "code",
   "execution_count": 26,
   "metadata": {},
   "outputs": [],
   "source": [
    "import numpy as np\n",
    "from enum import Enum\n",
    "\n",
    "f = open('in1.txt', 'r')\n",
    "lines = f.readlines()\n",
    "\n",
    "class Type(Enum):\n",
    "    ROCK = 1\n",
    "    PAPER = 2\n",
    "    SCISSOR = 3\n",
    "    \n",
    "S = []\n",
    "for line in lines:\n",
    "    if line == '':\n",
    "        continue\n",
    "    a = None\n",
    "    b = None\n",
    "    match line[0]:\n",
    "        case 'A':\n",
    "            a = Type.ROCK\n",
    "        case 'B':\n",
    "            a = Type.PAPER\n",
    "        case 'C':\n",
    "            a = Type.SCISSOR\n",
    "    match line[2]:\n",
    "        case 'X':\n",
    "            b = Type.ROCK\n",
    "        case 'Y':\n",
    "            b = Type.PAPER\n",
    "        case 'Z':\n",
    "            b = Type.SCISSOR\n",
    "    \n",
    "    S.append((a, b))"
   ]
  },
  {
   "cell_type": "markdown",
   "metadata": {},
   "source": [
    "### Part 1"
   ]
  },
  {
   "cell_type": "code",
   "execution_count": 27,
   "metadata": {},
   "outputs": [
    {
     "data": {
      "text/plain": [
       "10718"
      ]
     },
     "execution_count": 27,
     "metadata": {},
     "output_type": "execute_result"
    }
   ],
   "source": [
    "def count(a,b):\n",
    "    total = b.value\n",
    "    if a == b: \n",
    "        return total + 3\n",
    "    match (a,b):\n",
    "        case (Type.ROCK, Type.PAPER):\n",
    "            return total + 6\n",
    "        case (Type.PAPER, Type.SCISSOR):\n",
    "            return total + 6\n",
    "        case (Type.SCISSOR, Type.ROCK):\n",
    "            return total + 6\n",
    "        case (Type.ROCK, Type.SCISSOR):\n",
    "            return total\n",
    "        case (Type.PAPER, Type.ROCK):\n",
    "            return total\n",
    "        case (Type.SCISSOR, Type.PAPER):\n",
    "            return total\n",
    "\n",
    "total = 0\n",
    "for (a,b) in S:\n",
    "    total += count(a,b)\n",
    "            \n",
    "total"
   ]
  },
  {
   "cell_type": "markdown",
   "metadata": {},
   "source": [
    "### Part 2"
   ]
  },
  {
   "cell_type": "code",
   "execution_count": 28,
   "metadata": {},
   "outputs": [
    {
     "data": {
      "text/plain": [
       "14652"
      ]
     },
     "execution_count": 28,
     "metadata": {},
     "output_type": "execute_result"
    }
   ],
   "source": [
    "WIN = [Type.PAPER, Type.SCISSOR, Type.ROCK]\n",
    "LOSE = [Type.SCISSOR, Type.ROCK, Type.PAPER]\n",
    "\n",
    "total = 0\n",
    "for (a,b) in S:\n",
    "    match b.value:\n",
    "        case 1:\n",
    "            b = LOSE[a.value-1]\n",
    "        case 2:\n",
    "            b = a\n",
    "        case 3:\n",
    "            b = WIN[a.value-1]\n",
    "\n",
    "    total += count(a,b)\n",
    "    \n",
    "total\n",
    "            "
   ]
  }
 ],
 "metadata": {
  "kernelspec": {
   "display_name": "Python 3.10.6 64-bit ('3.10.6')",
   "language": "python",
   "name": "python3"
  },
  "language_info": {
   "codemirror_mode": {
    "name": "ipython",
    "version": 3
   },
   "file_extension": ".py",
   "mimetype": "text/x-python",
   "name": "python",
   "nbconvert_exporter": "python",
   "pygments_lexer": "ipython3",
   "version": "3.10.6"
  },
  "orig_nbformat": 4,
  "vscode": {
   "interpreter": {
    "hash": "2b756ddc43d68246ce63911f0d52e825da4eb80d904e20dbdcc34bf6f90418c2"
   }
  }
 },
 "nbformat": 4,
 "nbformat_minor": 2
}
