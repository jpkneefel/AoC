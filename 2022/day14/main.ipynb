{
 "cells": [
  {
   "cell_type": "code",
   "execution_count": 124,
   "metadata": {
    "tags": []
   },
   "outputs": [
    {
     "data": {
      "application/vnd.jupyter.widget-view+json": {
       "model_id": "e820bea7eca64180a2ba68f7d160cb4d",
       "version_major": 2,
       "version_minor": 0
      },
      "text/plain": [
       "Select(description='Input file:', index=1, options=('in.txt', 'ex1.txt'), rows=4, value='ex1.txt')"
      ]
     },
     "metadata": {},
     "output_type": "display_data"
    }
   ],
   "source": [
    "from IPython.display import display\n",
    "import ipywidgets as widgets\n",
    "from os import listdir\n",
    "from os.path import isfile, join\n",
    "import re\n",
    "import numpy as np\n",
    "from enum import Enum\n",
    "from copy import deepcopy\n",
    "from pprint import pprint\n",
    "from functools import reduce, cmp_to_key\n",
    "from itertools import groupby, combinations, permutations\n",
    "from time import time\n",
    "from queue import PriorityQueue\n",
    "from math import prod, ceil, comb\n",
    "import string\n",
    "\n",
    "\n",
    "def print_mat(mat):\n",
    "    for row in mat:\n",
    "        print(''.join(row))\n",
    "\n",
    "\n",
    "files = [f for f in listdir('.') if isfile(join('.', f))]\n",
    "pat = re.compile('(ex(\\d)+.txt)|(in(\\d)*.txt)')\n",
    "files = [f for f in files if pat.match(f)]\n",
    "\n",
    "box = widgets.Select(\n",
    "    options=files,\n",
    "    value='ex1.txt',\n",
    "    rows=4,\n",
    "    description='Input file:',\n",
    "    disabled=False\n",
    ")\n",
    "\n",
    "display(box)\n"
   ]
  },
  {
   "cell_type": "markdown",
   "metadata": {},
   "source": [
    "## Parse file"
   ]
  },
  {
   "cell_type": "code",
   "execution_count": 125,
   "metadata": {},
   "outputs": [
    {
     "name": "stdout",
     "output_type": "stream",
     "text": [
      "Done parsing \"in.txt\"\n"
     ]
    }
   ],
   "source": [
    "lines = list(map(lambda l: l.rstrip(), open(box.value, 'r').readlines()))\n",
    "\n",
    "P = [[tuple(map(int, p.split(','))) for p in line.split(' -> ')]\n",
    "     for line in lines]\n",
    "\n",
    "minx = np.inf\n",
    "miny = 0\n",
    "maxx = -np.inf\n",
    "maxy = -np.inf\n",
    "for p in P:\n",
    "    for x, y in p:\n",
    "        minx = min(minx, x)\n",
    "        maxx = max(maxx, x)\n",
    "        maxy = max(maxy, y)\n",
    "\n",
    "P = list([list(map(lambda q: (q[0] - minx, q[1]), p)) for p in P])\n",
    "\n",
    "GRID = np.full((maxx - minx + 1, maxy + 1), '.')\n",
    "\n",
    "START = (500 - minx, 0)\n",
    "GRID[START] = '+'\n",
    "\n",
    "for p in P:\n",
    "    for i in range(len(p)-1):\n",
    "        x, y = p[i]\n",
    "        u, v = p[i+1]\n",
    "        if x == u:\n",
    "            GRID[x, min(y, v):max(y, v)+1] = '#'\n",
    "        else:\n",
    "            GRID[min(x, u):max(x, u)+1, y] = '#'\n",
    "\n",
    "\n",
    "print(\"Done parsing \\\"{name}\\\"\".format(name=box.value))\n"
   ]
  },
  {
   "cell_type": "markdown",
   "metadata": {},
   "source": [
    "### Part 1"
   ]
  },
  {
   "cell_type": "code",
   "execution_count": 126,
   "metadata": {},
   "outputs": [
    {
     "name": "stdout",
     "output_type": "stream",
     "text": [
      "610\n"
     ]
    }
   ],
   "source": [
    "def sand(G):\n",
    "    p = START\n",
    "    while True:\n",
    "        x, y = p\n",
    "        if y >= maxy:\n",
    "            return False\n",
    "        if G[x, y+1] == '.':\n",
    "            p = (x, y+1)\n",
    "        elif G[x-1, y+1] == '.':\n",
    "            p = (x-1, y+1)\n",
    "        elif G[x+1, y+1] == '.':\n",
    "            p = (x+1, y+1)\n",
    "        else:\n",
    "            break\n",
    "\n",
    "    G[p] = 'o'\n",
    "    return True\n",
    "\n",
    "\n",
    "G = deepcopy(GRID)\n",
    "while sand(G):\n",
    "    pass\n",
    "\n",
    "print(np.sum(G == 'o'))\n"
   ]
  },
  {
   "cell_type": "markdown",
   "metadata": {},
   "source": [
    "### Part 2"
   ]
  },
  {
   "cell_type": "code",
   "execution_count": 127,
   "metadata": {},
   "outputs": [
    {
     "name": "stdout",
     "output_type": "stream",
     "text": [
      "27194\n"
     ]
    }
   ],
   "source": [
    "def sand(G):\n",
    "    p = (START[0] + 2*maxy, START[1])\n",
    "    while True:\n",
    "        x, y = p\n",
    "        if G[x, y+1] == '.':\n",
    "            p = (x, y+1)\n",
    "        elif x >= 0 and G[x-1, y+1] == '.':\n",
    "            p = (x-1, y+1)\n",
    "        elif x < G.shape[0] and G[x+1, y+1] == '.':\n",
    "            p = (x+1, y+1)\n",
    "        else:\n",
    "            if y == 0:\n",
    "                return False\n",
    "            break\n",
    "\n",
    "    G[p] = 'o'\n",
    "    return True\n",
    "\n",
    "\n",
    "G2 = deepcopy(GRID)\n",
    "G2 = np.vstack((G2, np.full((maxy*2, G2.shape[1]), '.')))\n",
    "G2 = np.vstack((np.full((maxy*2, G2.shape[1]), '.'), G2))\n",
    "G2 = np.hstack((G2, np.full((G2.shape[0], 2), '.')))\n",
    "G2[:, maxy+2] = '#'\n",
    "\n",
    "\n",
    "while sand(G2):\n",
    "    pass\n",
    "\n",
    "print(np.sum(G2 == 'o') + 1)\n"
   ]
  }
 ],
 "metadata": {
  "kernelspec": {
   "display_name": "Python 3.10.6 64-bit ('3.10.6')",
   "language": "python",
   "name": "python3"
  },
  "language_info": {
   "codemirror_mode": {
    "name": "ipython",
    "version": 3
   },
   "file_extension": ".py",
   "mimetype": "text/x-python",
   "name": "python",
   "nbconvert_exporter": "python",
   "pygments_lexer": "ipython3",
   "version": "3.10.6"
  },
  "orig_nbformat": 4,
  "vscode": {
   "interpreter": {
    "hash": "2b756ddc43d68246ce63911f0d52e825da4eb80d904e20dbdcc34bf6f90418c2"
   }
  }
 },
 "nbformat": 4,
 "nbformat_minor": 2
}
