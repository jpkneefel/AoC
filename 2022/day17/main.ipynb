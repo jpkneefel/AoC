{
 "cells": [
  {
   "cell_type": "code",
   "execution_count": 20,
   "metadata": {
    "tags": []
   },
   "outputs": [
    {
     "data": {
      "application/vnd.jupyter.widget-view+json": {
       "model_id": "611b549767b74c87a7880f3be13e4a0a",
       "version_major": 2,
       "version_minor": 0
      },
      "text/plain": [
       "Select(description='Input file:', index=1, options=('in.txt', 'ex1.txt'), rows=4, value='ex1.txt')"
      ]
     },
     "metadata": {},
     "output_type": "display_data"
    }
   ],
   "source": [
    "from IPython.display import display\n",
    "import ipywidgets as widgets\n",
    "from os import listdir\n",
    "from os.path import isfile, join\n",
    "import re\n",
    "import numpy as np\n",
    "from enum import Enum\n",
    "from copy import deepcopy\n",
    "from pprint import pprint\n",
    "from functools import reduce, cmp_to_key\n",
    "from itertools import groupby, combinations, permutations\n",
    "from time import time\n",
    "from queue import PriorityQueue\n",
    "from math import prod, ceil, comb, perm\n",
    "from collections import defaultdict\n",
    "import string\n",
    "\n",
    "\n",
    "def print_mat(mat):\n",
    "    for row in mat:\n",
    "        print(''.join(row))\n",
    "\n",
    "\n",
    "files = [f for f in listdir('.') if isfile(join('.', f))]\n",
    "pat = re.compile('(ex(\\d)+.txt)|(in(\\d)*.txt)')\n",
    "files = [f for f in files if pat.match(f)]\n",
    "\n",
    "box = widgets.Select(\n",
    "    options=files,\n",
    "    value='ex1.txt',\n",
    "    rows=4,\n",
    "    description='Input file:',\n",
    "    disabled=False\n",
    ")\n",
    "\n",
    "display(box)\n"
   ]
  },
  {
   "cell_type": "markdown",
   "metadata": {},
   "source": [
    "## Parse file"
   ]
  },
  {
   "cell_type": "code",
   "execution_count": 26,
   "metadata": {},
   "outputs": [
    {
     "name": "stdout",
     "output_type": "stream",
     "text": [
      "Done parsing \"in.txt\"\n"
     ]
    }
   ],
   "source": [
    "lines = list(map(lambda l: l.rstrip(), open(box.value, 'r').readlines()))\n",
    "\n",
    "P = list(map(lambda l: 1 if l == '>' else -1, lines[0]))\n",
    "\n",
    "R = [\n",
    "    [(0, 0), (1, 0), (2, 0), (3, 0)],\n",
    "    [(1, 0), (1, 1), (1, 2), (0, 1), (2, 1)],\n",
    "    [(0, 0), (1, 0), (2, 0), (2, 1), (2, 2)],\n",
    "    [(0, 0), (0, 1), (0, 2), (0, 3)],\n",
    "    [(0, 0), (0, 1), (1, 0), (1, 1)],\n",
    "]\n",
    "\n",
    "print(\"Done parsing \\\"{name}\\\"\".format(name=box.value))\n"
   ]
  },
  {
   "cell_type": "markdown",
   "metadata": {},
   "source": [
    "### Part 1"
   ]
  },
  {
   "cell_type": "code",
   "execution_count": 27,
   "metadata": {},
   "outputs": [
    {
     "data": {
      "text/plain": [
       "3179"
      ]
     },
     "execution_count": 27,
     "metadata": {},
     "output_type": "execute_result"
    }
   ],
   "source": [
    "def simulate(iter):\n",
    "    T = np.matrix([[False] * 7] * 20)\n",
    "    V = set()\n",
    "    maxy = -1\n",
    "    i = 0\n",
    "    pi = 0\n",
    "    ri = 0\n",
    "    V = set()\n",
    "    I = {}\n",
    "    Y = defaultdict(lambda: 0)\n",
    "    skip = 0\n",
    "    while i < iter:\n",
    "        state = (pi, ri, str(T[maxy-64:maxy+3, :].tolist()))\n",
    "        if skip == 0:\n",
    "            if state in V:\n",
    "                interval = i - I[state]\n",
    "                increment = maxy - Y[state]\n",
    "                n = (iter - i) // interval\n",
    "                i += interval * n\n",
    "                skip += increment * n\n",
    "            else:\n",
    "                I[state] = i\n",
    "                Y[state] = maxy\n",
    "                V.add(state)\n",
    "\n",
    "        r = [(x + 2, y + maxy + 4)for x, y in R[ri]]\n",
    "        ri = (ri + 1) % 5\n",
    "\n",
    "        while True:\n",
    "            # Jet:\n",
    "            dx = P[pi]\n",
    "            pi = (pi + 1) % len(P)\n",
    "            rnew = []\n",
    "            for x, y in r:\n",
    "                if x + dx not in range(0, 7) or T[y, x+dx]:\n",
    "                    break\n",
    "                rnew.append((x + dx, y))\n",
    "            if len(rnew) == len(r):\n",
    "                r = rnew\n",
    "\n",
    "            # Fall:\n",
    "            rnew = []\n",
    "            for x, y in r:\n",
    "                if y - 1 < 0 or T[y-1, x]:\n",
    "                    break\n",
    "                rnew.append((x, y - 1))\n",
    "            if len(rnew) == len(r):\n",
    "                r = rnew\n",
    "            else:\n",
    "                break\n",
    "\n",
    "        for x, y in r:\n",
    "            T[y, x] = True\n",
    "            maxy = max(maxy, y)\n",
    "\n",
    "        if T.shape[0] < maxy + 8:\n",
    "            T = np.vstack((T, np.matrix([[False] * 7] * 7)))\n",
    "\n",
    "        i += 1\n",
    "\n",
    "    return maxy + 1 + skip\n",
    "\n",
    "\n",
    "simulate(2022)\n"
   ]
  },
  {
   "cell_type": "markdown",
   "metadata": {},
   "source": [
    "### Part 2"
   ]
  },
  {
   "cell_type": "code",
   "execution_count": 28,
   "metadata": {},
   "outputs": [
    {
     "data": {
      "text/plain": [
       "1567723342929"
      ]
     },
     "execution_count": 28,
     "metadata": {},
     "output_type": "execute_result"
    }
   ],
   "source": [
    "simulate(1000000000000)"
   ]
  }
 ],
 "metadata": {
  "kernelspec": {
   "display_name": "Python 3.10.6 64-bit ('3.10.6')",
   "language": "python",
   "name": "python3"
  },
  "language_info": {
   "codemirror_mode": {
    "name": "ipython",
    "version": 3
   },
   "file_extension": ".py",
   "mimetype": "text/x-python",
   "name": "python",
   "nbconvert_exporter": "python",
   "pygments_lexer": "ipython3",
   "version": "3.10.6"
  },
  "orig_nbformat": 4,
  "vscode": {
   "interpreter": {
    "hash": "2b756ddc43d68246ce63911f0d52e825da4eb80d904e20dbdcc34bf6f90418c2"
   }
  }
 },
 "nbformat": 4,
 "nbformat_minor": 2
}
