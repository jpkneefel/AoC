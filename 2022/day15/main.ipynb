{
 "cells": [
  {
   "cell_type": "code",
   "execution_count": 398,
   "metadata": {
    "tags": []
   },
   "outputs": [
    {
     "data": {
      "application/vnd.jupyter.widget-view+json": {
       "model_id": "2174f1469eb54e34ae1b364e35ff9bf8",
       "version_major": 2,
       "version_minor": 0
      },
      "text/plain": [
       "Select(description='Input file:', index=1, options=('in.txt', 'ex1.txt'), rows=4, value='ex1.txt')"
      ]
     },
     "metadata": {},
     "output_type": "display_data"
    }
   ],
   "source": [
    "from IPython.display import display\n",
    "import ipywidgets as widgets\n",
    "from os import listdir\n",
    "from os.path import isfile, join\n",
    "import re\n",
    "import numpy as np\n",
    "from enum import Enum\n",
    "from copy import deepcopy\n",
    "from pprint import pprint\n",
    "from functools import reduce, cmp_to_key\n",
    "from itertools import groupby, combinations, permutations\n",
    "from time import time\n",
    "from queue import PriorityQueue\n",
    "from math import prod, ceil, comb\n",
    "import string\n",
    "\n",
    "\n",
    "def print_mat(mat):\n",
    "    for row in mat:\n",
    "        print(''.join(row))\n",
    "\n",
    "\n",
    "files = [f for f in listdir('.') if isfile(join('.', f))]\n",
    "pat = re.compile('(ex(\\d)+.txt)|(in(\\d)*.txt)')\n",
    "files = [f for f in files if pat.match(f)]\n",
    "\n",
    "box = widgets.Select(\n",
    "    options=files,\n",
    "    value='ex1.txt',\n",
    "    rows=4,\n",
    "    description='Input file:',\n",
    "    disabled=False\n",
    ")\n",
    "\n",
    "display(box)\n"
   ]
  },
  {
   "cell_type": "markdown",
   "metadata": {},
   "source": [
    "## Parse file"
   ]
  },
  {
   "cell_type": "code",
   "execution_count": 403,
   "metadata": {},
   "outputs": [
    {
     "name": "stdout",
     "output_type": "stream",
     "text": [
      "Done parsing \"in.txt\"\n"
     ]
    }
   ],
   "source": [
    "lines = list(map(lambda l: l.rstrip(), open(box.value, 'r').readlines()))\n",
    "\n",
    "y = 10 if box.value == \"ex1.txt\" else 2_000_000\n",
    "\n",
    "pat = re.compile('x=(-?\\d+), y=(-?\\d+)')\n",
    "S = np.matrix([sum(list(map(lambda t: list(map(int, t)), pat.findall(line))), [])\n",
    "     for line in lines])\n",
    "\n",
    "print(\"Done parsing \\\"{name}\\\"\".format(name=box.value))\n"
   ]
  },
  {
   "cell_type": "markdown",
   "metadata": {},
   "source": [
    "### Part 1"
   ]
  },
  {
   "cell_type": "code",
   "execution_count": 404,
   "metadata": {},
   "outputs": [
    {
     "name": "stdout",
     "output_type": "stream",
     "text": [
      "4560025\n"
     ]
    }
   ],
   "source": [
    "def manhattan(m1, m2):\n",
    "    return np.squeeze(np.asarray(np.sum(np.abs(m1 - m2), axis=1).reshape(-1,)))\n",
    "\n",
    "\n",
    "DS = manhattan(S[:, :2], S[:, 2:])\n",
    "\n",
    "padding = np.matrix([DS, np.zeros(len(DS), dtype=int)]).T\n",
    "minx, _ = np.amin(S[:, :2] - padding, axis=0).tolist()[0]\n",
    "maxx, _ = np.amax(S[:, :2] + padding, axis=0).tolist()[0]\n",
    "\n",
    "\n",
    "Y = np.matrix([np.arange(minx, maxx, dtype=int).repeat(len(S)),\n",
    "               np.full(maxx-minx, y, dtype=int).repeat(len(S))]).T\n",
    "DY = np.reshape(\n",
    "    manhattan(np.tile(S[:, :2], (maxx-minx, 1)), Y), (maxx-minx, len(S)))\n",
    "\n",
    "DSY = DY - np.tile(DS, (maxx-minx, 1))\n",
    "DSY[DSY <= 0] = -1\n",
    "DSY[DSY > 0] = 0\n",
    "\n",
    "DSY = np.sum(DSY, axis=1)\n",
    "\n",
    "b = len(set([tuple(row) for row in S[:, 2:].tolist() if row[1] == y]))\n",
    "\n",
    "pprint(len(DSY[DSY != 0]) - b)\n"
   ]
  },
  {
   "cell_type": "markdown",
   "metadata": {},
   "source": [
    "### Part 2"
   ]
  },
  {
   "cell_type": "code",
   "execution_count": 405,
   "metadata": {},
   "outputs": [
    {
     "name": "stdout",
     "output_type": "stream",
     "text": [
      "12480406634249\n"
     ]
    }
   ],
   "source": [
    "maxy = y * 2\n",
    "\n",
    "done = False\n",
    "for i in range(len(S)):\n",
    "    if done:\n",
    "        break\n",
    "\n",
    "    x, y = S[i, :2].tolist()[0]\n",
    "    ds = DS[i]\n",
    "    I = np.arange(len(S))\n",
    "    r = np.arange(0, ds+2)\n",
    "    for dx, dy in [(1, 1), (-1, 1), (1, -1), (-1, -1)]:\n",
    "        D = np.matrix([r*dx, r[::-1]*dy]).T\n",
    "        P = np.matrix([x, y]) + D\n",
    "        M = np.reshape(manhattan(np.tile(P, (len(S) - 1, 1)),\n",
    "                       S[I != i, :2].repeat(ds + 2, axis=0)), (len(S) - 1, ds+2))\n",
    "        N = M.T - DS[I != i]\n",
    "        N[N <= 0] = -1\n",
    "        N[N > 0] = 0\n",
    "        N = np.sum(N, axis=1)\n",
    "\n",
    "        found = [p for p in P[N == 0, :].tolist()\n",
    "                 if p[0] in range(0, maxy+1) and\n",
    "                 p[1] in range(0, maxy+1)]\n",
    "        if len(found) == 1:\n",
    "            print(found[0][0] * 4_000_000 + found[0][1])\n",
    "            done = True\n",
    "            break\n"
   ]
  }
 ],
 "metadata": {
  "kernelspec": {
   "display_name": "Python 3.10.6 64-bit ('3.10.6')",
   "language": "python",
   "name": "python3"
  },
  "language_info": {
   "codemirror_mode": {
    "name": "ipython",
    "version": 3
   },
   "file_extension": ".py",
   "mimetype": "text/x-python",
   "name": "python",
   "nbconvert_exporter": "python",
   "pygments_lexer": "ipython3",
   "version": "3.10.6"
  },
  "orig_nbformat": 4,
  "vscode": {
   "interpreter": {
    "hash": "2b756ddc43d68246ce63911f0d52e825da4eb80d904e20dbdcc34bf6f90418c2"
   }
  }
 },
 "nbformat": 4,
 "nbformat_minor": 2
}
