{
 "cells": [
  {
   "cell_type": "code",
   "execution_count": 8,
   "metadata": {
    "tags": []
   },
   "outputs": [
    {
     "data": {
      "application/vnd.jupyter.widget-view+json": {
       "model_id": "4175a2cff5714ebcb862de02cf0c945d",
       "version_major": 2,
       "version_minor": 0
      },
      "text/plain": [
       "Select(description='Input file:', index=1, options=('in.txt', 'ex1.txt'), rows=4, value='ex1.txt')"
      ]
     },
     "metadata": {},
     "output_type": "display_data"
    }
   ],
   "source": [
    "from IPython.display import display\n",
    "import ipywidgets as widgets\n",
    "from os import listdir\n",
    "from os.path import isfile, join\n",
    "import re\n",
    "import numpy as np\n",
    "from enum import Enum\n",
    "from copy import deepcopy\n",
    "from pprint import pprint\n",
    "from functools import reduce\n",
    "\n",
    "files = [f for f in listdir('.') if isfile(join('.', f))]\n",
    "pat = re.compile('(ex(\\d)+.txt)|(in(\\d)*.txt)')\n",
    "files = [f for f in files if pat.match(f)]\n",
    "\n",
    "box = widgets.Select(\n",
    "    options=files,\n",
    "    value='ex1.txt',\n",
    "    rows=4,\n",
    "    description='Input file:',\n",
    "    disabled=False\n",
    ")\n",
    "\n",
    "display(box)\n"
   ]
  },
  {
   "cell_type": "markdown",
   "metadata": {},
   "source": [
    "## Parse file"
   ]
  },
  {
   "cell_type": "code",
   "execution_count": 15,
   "metadata": {},
   "outputs": [
    {
     "name": "stdout",
     "output_type": "stream",
     "text": [
      "Done parsing \"in.txt\"\n"
     ]
    }
   ],
   "source": [
    "name = box.value\n",
    "f = open(name, 'r')\n",
    "lines = f.readlines()\n",
    "lines = list(map(lambda l: l.rstrip(), lines))\n",
    "\n",
    "\n",
    "# TODO: Parse the input\n",
    "\n",
    "class Tree:\n",
    "    c = 1\n",
    "    nodes = {}\n",
    "    curr = 0\n",
    "\n",
    "    def __init__(self):\n",
    "        self.nodes[0] = Node('/', 0, [], [])\n",
    "\n",
    "    def add_dir(self, name):\n",
    "        self.nodes[self.curr].children.append(self.c)\n",
    "        self.nodes[self.c] = Node(name, self.curr, [], [])\n",
    "        self.c += 1\n",
    "\n",
    "    def add_file(self, name, size):\n",
    "        self.nodes[self.curr].files.append((name, size))\n",
    "\n",
    "    def cd(self, path):\n",
    "        if path == '/':\n",
    "            self.curr = 0\n",
    "        elif path == '..':\n",
    "            self.curr = self.nodes[self.curr].parent\n",
    "        else:\n",
    "            for child in self.nodes[self.curr].children:\n",
    "                if self.nodes[child].name == path:\n",
    "                    self.curr = child\n",
    "                    break\n",
    "\n",
    "\n",
    "class Node:\n",
    "    def __init__(self, name, parent, children, files):\n",
    "        self.name = name\n",
    "        self.parent = parent\n",
    "        self.children = children\n",
    "        self.files = files\n",
    "\n",
    "    def __repr__(self):\n",
    "        return \"Node({name}, {parent}, {children}, {files})\".format(name=self.name, parent=self.parent, children=self.children, files=self.files)\n",
    "\n",
    "\n",
    "tree = Tree()\n",
    "i = 0\n",
    "while i < len(lines):\n",
    "    line = lines[i]\n",
    "    if line[2:4] == 'cd':\n",
    "        tree.cd(line[5:])\n",
    "        i += 1\n",
    "    elif line[2:4] == 'ls':\n",
    "        j = 1\n",
    "        while i + j < len(lines) and lines[i + j][0] != '$':\n",
    "            l = lines[i + j]\n",
    "            if l[:3] == 'dir':\n",
    "                tree.add_dir(l[4:])\n",
    "            else:\n",
    "                t = l.split()\n",
    "                tree.add_file(t[1], int(t[0]))\n",
    "            j += 1\n",
    "        i += j\n",
    "\n",
    "\n",
    "print(\"Done parsing \\\"{name}\\\"\".format(name=name))\n"
   ]
  },
  {
   "cell_type": "markdown",
   "metadata": {},
   "source": [
    "### Part 1"
   ]
  },
  {
   "cell_type": "code",
   "execution_count": 10,
   "metadata": {},
   "outputs": [
    {
     "name": "stdout",
     "output_type": "stream",
     "text": [
      "95437\n"
     ]
    }
   ],
   "source": [
    "def count(node):\n",
    "    c = 0\n",
    "    stack = [node]\n",
    "    while len(stack) > 0:\n",
    "        n = stack.pop()\n",
    "        c += sum([f[1] for f in tree.nodes[n].files])\n",
    "        stack.extend(tree.nodes[n].children)\n",
    "\n",
    "    return c\n",
    "\n",
    "t = 0\n",
    "for node in tree.nodes:\n",
    "    c = count(node)\n",
    "    if c <= 100_000:\n",
    "        t += c\n",
    "\n",
    "print(t)"
   ]
  },
  {
   "cell_type": "markdown",
   "metadata": {},
   "source": [
    "### Part 2"
   ]
  },
  {
   "cell_type": "code",
   "execution_count": 16,
   "metadata": {},
   "outputs": [
    {
     "name": "stdout",
     "output_type": "stream",
     "text": [
      "7268994\n"
     ]
    }
   ],
   "source": [
    "MAX = 40_000_000\n",
    "\n",
    "x = count(0) - MAX\n",
    "D = []\n",
    "for node in tree.nodes:\n",
    "    c = count(node)\n",
    "    if c >= x:\n",
    "        D.append((node, c))\n",
    "        \n",
    "D.sort(key=lambda d: d[1])\n",
    "\n",
    "print(D[0][1])\n"
   ]
  }
 ],
 "metadata": {
  "kernelspec": {
   "display_name": "Python 3.10.6 64-bit ('3.10.6')",
   "language": "python",
   "name": "python3"
  },
  "language_info": {
   "codemirror_mode": {
    "name": "ipython",
    "version": 3
   },
   "file_extension": ".py",
   "mimetype": "text/x-python",
   "name": "python",
   "nbconvert_exporter": "python",
   "pygments_lexer": "ipython3",
   "version": "3.10.6"
  },
  "orig_nbformat": 4,
  "vscode": {
   "interpreter": {
    "hash": "2b756ddc43d68246ce63911f0d52e825da4eb80d904e20dbdcc34bf6f90418c2"
   }
  }
 },
 "nbformat": 4,
 "nbformat_minor": 2
}
