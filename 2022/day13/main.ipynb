{
 "cells": [
  {
   "cell_type": "code",
   "execution_count": 15,
   "metadata": {
    "tags": []
   },
   "outputs": [
    {
     "data": {
      "application/vnd.jupyter.widget-view+json": {
       "model_id": "974acfe76644432ea10510e7945025cd",
       "version_major": 2,
       "version_minor": 0
      },
      "text/plain": [
       "Select(description='Input file:', index=1, options=('in.txt', 'ex1.txt'), rows=4, value='ex1.txt')"
      ]
     },
     "metadata": {},
     "output_type": "display_data"
    }
   ],
   "source": [
    "from IPython.display import display\n",
    "import ipywidgets as widgets\n",
    "from os import listdir\n",
    "from os.path import isfile, join\n",
    "import re\n",
    "import numpy as np\n",
    "from enum import Enum\n",
    "from copy import deepcopy\n",
    "from pprint import pprint\n",
    "from functools import reduce, cmp_to_key\n",
    "from time import time\n",
    "from queue import PriorityQueue\n",
    "from math import prod, ceil\n",
    "import string\n",
    "\n",
    "\n",
    "def print_mat(mat):\n",
    "    for row in mat:\n",
    "        print(''.join(row))\n",
    "\n",
    "\n",
    "files = [f for f in listdir('.') if isfile(join('.', f))]\n",
    "pat = re.compile('(ex(\\d)+.txt)|(in(\\d)*.txt)')\n",
    "files = [f for f in files if pat.match(f)]\n",
    "\n",
    "box = widgets.Select(\n",
    "    options=files,\n",
    "    value='ex1.txt',\n",
    "    rows=4,\n",
    "    description='Input file:',\n",
    "    disabled=False\n",
    ")\n",
    "\n",
    "display(box)\n"
   ]
  },
  {
   "cell_type": "markdown",
   "metadata": {},
   "source": [
    "## Parse file"
   ]
  },
  {
   "cell_type": "code",
   "execution_count": 23,
   "metadata": {},
   "outputs": [
    {
     "name": "stdout",
     "output_type": "stream",
     "text": [
      "Done parsing \"in.txt\"\n"
     ]
    }
   ],
   "source": [
    "lines = list(map(lambda l: l.rstrip(), open(box.value, 'r').readlines()))\n",
    "\n",
    "L = list(map(eval, filter(lambda l: l != '', lines)))\n",
    "\n",
    "print(\"Done parsing \\\"{name}\\\"\".format(name=box.value))\n"
   ]
  },
  {
   "cell_type": "markdown",
   "metadata": {},
   "source": [
    "### Part 1"
   ]
  },
  {
   "cell_type": "code",
   "execution_count": 24,
   "metadata": {},
   "outputs": [
    {
     "name": "stdout",
     "output_type": "stream",
     "text": [
      "5808\n"
     ]
    }
   ],
   "source": [
    "def compare(X, Y):\n",
    "    if type(X) == int and type(Y) == int:\n",
    "        return np.sign(X - Y)\n",
    "    elif type(X) == int:\n",
    "        return compare([X], Y)\n",
    "    elif type(Y) == int:\n",
    "        return compare(X, [Y])\n",
    "    else:\n",
    "        x = deepcopy(X)\n",
    "        y = deepcopy(Y)\n",
    "        while len(x) > 0 and len(y) > 0:\n",
    "            c = compare(x.pop(0), y.pop(0))\n",
    "            if c != 0:\n",
    "                return c\n",
    "        return np.sign(len(x) - len(y))\n",
    "\n",
    "\n",
    "t = 0\n",
    "for i in range(0, len(L), 2):\n",
    "    if compare(L[i], L[i+1]) == -1:\n",
    "        t += i//2 + 1\n",
    "\n",
    "print(t)\n"
   ]
  },
  {
   "cell_type": "markdown",
   "metadata": {},
   "source": [
    "### Part 2"
   ]
  },
  {
   "cell_type": "code",
   "execution_count": 25,
   "metadata": {},
   "outputs": [
    {
     "name": "stdout",
     "output_type": "stream",
     "text": [
      "22713\n"
     ]
    }
   ],
   "source": [
    "L2 = deepcopy(L)\n",
    "L2 += [[[2]], [[6]]]\n",
    "L2.sort(key=cmp_to_key(compare))\n",
    "print((L2.index([[2]]) + 1) * (L2.index([[6]]) + 1))"
   ]
  }
 ],
 "metadata": {
  "kernelspec": {
   "display_name": "Python 3.10.6 64-bit ('3.10.6')",
   "language": "python",
   "name": "python3"
  },
  "language_info": {
   "codemirror_mode": {
    "name": "ipython",
    "version": 3
   },
   "file_extension": ".py",
   "mimetype": "text/x-python",
   "name": "python",
   "nbconvert_exporter": "python",
   "pygments_lexer": "ipython3",
   "version": "3.10.6"
  },
  "orig_nbformat": 4,
  "vscode": {
   "interpreter": {
    "hash": "2b756ddc43d68246ce63911f0d52e825da4eb80d904e20dbdcc34bf6f90418c2"
   }
  }
 },
 "nbformat": 4,
 "nbformat_minor": 2
}
