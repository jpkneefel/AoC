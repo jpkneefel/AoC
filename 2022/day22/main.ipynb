{
 "cells": [
  {
   "cell_type": "code",
   "execution_count": 64,
   "metadata": {
    "tags": []
   },
   "outputs": [
    {
     "data": {
      "application/vnd.jupyter.widget-view+json": {
       "model_id": "af55ffda5f684f708aff78a8c3f727b6",
       "version_major": 2,
       "version_minor": 0
      },
      "text/plain": [
       "Select(description='Input file:', index=1, options=('input', 'example'), rows=4, value='example')"
      ]
     },
     "metadata": {},
     "output_type": "display_data"
    }
   ],
   "source": [
    "import aocpy as aoc\n",
    "from aocpy import print_bools, print_mat, add_tuple\n",
    "import re\n",
    "from enum import Enum\n",
    "from copy import deepcopy\n",
    "from pprint import pprint\n",
    "from functools import reduce, cmp_to_key\n",
    "from itertools import groupby, combinations, permutations\n",
    "from time import time\n",
    "from queue import PriorityQueue\n",
    "from math import prod, ceil, comb, perm\n",
    "from collections import defaultdict\n",
    "from dataclasses import dataclass\n",
    "from bisect import insort\n",
    "import numpy as np\n",
    "import string\n",
    "\n",
    "aoc.init(day=22, year=2022)\n"
   ]
  },
  {
   "cell_type": "markdown",
   "metadata": {},
   "source": [
    "## Parse file"
   ]
  },
  {
   "cell_type": "code",
   "execution_count": 70,
   "metadata": {},
   "outputs": [
    {
     "name": "stdout",
     "output_type": "stream",
     "text": [
      "Done reading \"input\"\n"
     ]
    }
   ],
   "source": [
    "lines = aoc.get_lines()\n",
    "\n",
    "N = 4 if aoc.box.value == \"example\" else 50\n",
    "pat = re.compile(r\"(L|R)\")\n",
    "instructions = pat.split(lines[-1])\n"
   ]
  },
  {
   "cell_type": "markdown",
   "metadata": {},
   "source": [
    "### Part 1"
   ]
  },
  {
   "cell_type": "code",
   "execution_count": 71,
   "metadata": {},
   "outputs": [],
   "source": [
    "w = max(map(len, lines[:-2]))\n",
    "h = len(lines[:-2])\n",
    "\n",
    "grid = np.zeros((h, w), dtype=bool)\n",
    "empty = np.ones((h, w), dtype=bool)\n",
    "D = np.full((h, w), \" \", dtype=str)\n",
    "\n",
    "START = None\n",
    "for y, line in enumerate(lines[:-2]):\n",
    "    for x, c in enumerate(line):\n",
    "        if c == \".\":\n",
    "            if y == 0 and START is None:\n",
    "                START = (y, x)\n",
    "                D[y, x] = \">\"\n",
    "            grid[y, x] = True\n",
    "        if c == \".\" or c == \"#\":\n",
    "            empty[y, x] = False\n",
    "        D[y, x] = c\n"
   ]
  },
  {
   "cell_type": "code",
   "execution_count": 72,
   "metadata": {},
   "outputs": [
    {
     "name": "stdout",
     "output_type": "stream",
     "text": [
      "31568\n"
     ]
    }
   ],
   "source": [
    "r, c = START\n",
    "a = 0\n",
    "\n",
    "for instr in instructions:\n",
    "    match instr:\n",
    "        case \"L\":\n",
    "            a = (a - 1) % 4\n",
    "        case \"R\":\n",
    "            a = (a + 1) % 4\n",
    "        case _:\n",
    "            n = int(instr)\n",
    "            for _ in range(n):\n",
    "                y, x = (r, c)\n",
    "                match a:\n",
    "                    case 0:\n",
    "                        x = (x + 1) % w\n",
    "                    case 1:\n",
    "                        y = (y + 1) % h\n",
    "                    case 2:\n",
    "                        x = (x - 1) % w\n",
    "                    case 3:\n",
    "                        y = (y - 1) % h\n",
    "\n",
    "                if empty[y, x]:\n",
    "                    match a:\n",
    "                        case 0:\n",
    "                            x = np.where(empty[y, :] == False)[0][0]\n",
    "                        case 1:\n",
    "                            y = np.where(empty[:, x] == False)[0][0]\n",
    "                        case 2:\n",
    "                            x = np.where(empty[y, :] == False)[0][-1]\n",
    "                        case 3:\n",
    "                            y = np.where(empty[:, x] == False)[0][-1]\n",
    "\n",
    "                if grid[y, x]:\n",
    "                    r, c = (y, x)\n",
    "                else:\n",
    "                    break\n",
    "\n",
    "print(1000 * (r+1) + 4 * (c+1) + a)\n"
   ]
  },
  {
   "cell_type": "markdown",
   "metadata": {},
   "source": [
    "### Part 2"
   ]
  },
  {
   "cell_type": "code",
   "execution_count": 73,
   "metadata": {},
   "outputs": [],
   "source": [
    "from scipy.spatial.transform import Rotation as R\n",
    "\n",
    "debug = []\n",
    "cube = []\n",
    "faces = []\n",
    "cube_to_grid = []\n",
    "for i in range(0, h//N):\n",
    "    for j in range(0, w//N):\n",
    "        if not empty[i * N, j * N]:\n",
    "            cube.append(grid[i*N:(i+1)*N, j*N:(j+1)*N])\n",
    "            debug.append(D[i*N:(i+1)*N, j*N:(j+1)*N])\n",
    "            faces.append((j, i))\n",
    "            cube_to_grid.append((i*N, j*N))\n",
    "\n",
    "\n",
    "stack = [(0, np.array([0, 1, 0]), np.array([0, 0, -1]))]\n",
    "V = set()\n",
    "map2d_to_3d = [{} for _ in range(6)]\n",
    "map3d_to_2d = [{} for _ in range(6)]\n",
    "while len(stack) > 0:\n",
    "    i, normal, up = stack.pop()\n",
    "    if i in V:\n",
    "        continue\n",
    "    V.add(i)\n",
    "\n",
    "    left = np.cross(normal, up)\n",
    "    for r in [0, N-1]:\n",
    "        for c in [0, N-1]:\n",
    "            x = -N if c == 0 else N\n",
    "            y = N if r == 0 else -N\n",
    "            coord = normal * N + -x * left + y * up\n",
    "            coord = tuple(map(round, coord.tolist()))\n",
    "            u = tuple(up.astype(int).tolist())\n",
    "            n = tuple(normal.astype(int).tolist())\n",
    "            map2d_to_3d[i][(r, c)] = coord\n",
    "            map3d_to_2d[i][coord] = (r, c)\n",
    "\n",
    "    x, y = faces[i]\n",
    "    f = (x + 1, y)\n",
    "    if f in faces:\n",
    "        j = faces.index(f)\n",
    "        rot = R.from_rotvec(np.radians(90) * up)\n",
    "        n = rot.apply(normal).astype(int)\n",
    "        stack.append((j, n, up))\n",
    "    f = (x - 1, y)\n",
    "    if f in faces:\n",
    "        j = faces.index(f)\n",
    "        rot = R.from_rotvec(np.radians(-90) * up)\n",
    "        n = rot.apply(normal).astype(int)\n",
    "        stack.append((j, n, up))\n",
    "    f = (x, y + 1)\n",
    "    if f in faces:\n",
    "        j = faces.index(f)\n",
    "        rot = R.from_rotvec(np.radians(-90) * left)\n",
    "        n = rot.apply(normal).astype(int)\n",
    "        u = rot.apply(up).astype(int)\n",
    "        stack.append((j, n, u))\n",
    "\n",
    "\n",
    "M = [{} for _ in range(6)]\n",
    "for i in range(6):\n",
    "    for j in range(6):\n",
    "        if i == j:\n",
    "            continue\n",
    "\n",
    "        Mi = map2d_to_3d[i]\n",
    "        Mj = map2d_to_3d[j]\n",
    "        Pi = []\n",
    "        Pj = []\n",
    "        for p2d, p3d in Mi.items():\n",
    "            for q2d, q3d in Mj.items():\n",
    "                if p3d == q3d:\n",
    "                    Pi.append(p2d)\n",
    "                    Pj.append(q2d)\n",
    "        if len(Pi) == 0:\n",
    "            continue\n",
    "\n",
    "        pi1 = Pi[0]\n",
    "        pi2 = Pi[1]\n",
    "        pj1 = Pj[0]\n",
    "        pj2 = Pj[1]\n",
    "\n",
    "        vi = pi1[1] == pi2[1]\n",
    "        di = np.array([0, 1]) if vi else np.array([1, 0])\n",
    "        di = -di if pi1[int(vi)] == 0 else di\n",
    "\n",
    "        dx = np.sign(pi2[1] - pi1[1])\n",
    "        X = [pi1[1]]*N if dx == 0 else range(\n",
    "            pi1[1], pi2[1] + dx, dx)\n",
    "        dy = np.sign(pi2[0] - pi1[0])\n",
    "        Y = [pi1[0]] * N if dy == 0 else range(\n",
    "            pi1[0], pi2[0] + dy, dy)\n",
    "        interp_i = list(zip(Y, X))\n",
    "\n",
    "        ai = None\n",
    "        match di.tolist():\n",
    "            case [0, 1]:\n",
    "                ai = 2\n",
    "            case [1, 0]:\n",
    "                ai = 3\n",
    "            case [0, -1]:\n",
    "                ai = 0\n",
    "            case [-1, 0]:\n",
    "                ai = 1\n",
    "\n",
    "        vj = pj1[1] == pj2[1]\n",
    "        dj = np.array([0, 1]) if vj else np.array([1, 0])\n",
    "        dj = -dj if pj1[int(vj)] == 0 else dj\n",
    "\n",
    "        dx = np.sign(pj2[1] - pj1[1])\n",
    "        X = [pj1[1]]*N if dx == 0 else range(\n",
    "            pj1[1], pj2[1] + dx, dx)\n",
    "        dy = np.sign(pj2[0] - pj1[0])\n",
    "        Y = [pj1[0]] * N if dy == 0 else range(\n",
    "            pj1[0], pj2[0] + dy, dy)\n",
    "        interp_j = list(zip(Y, X))\n",
    "\n",
    "        aj = None\n",
    "        match dj.tolist():\n",
    "            case [0, 1]:\n",
    "                aj = 2\n",
    "            case [1, 0]:\n",
    "                aj = 3\n",
    "            case [0, -1]:\n",
    "                aj = 0\n",
    "            case [-1, 0]:\n",
    "                aj = 1\n",
    "\n",
    "        M[i] |= {tuple(xi + di): (j, aj, tuple(xj))\n",
    "                 for xi, xj in zip(interp_i, interp_j)}\n",
    "        M[j] |= {tuple(xj + dj): (i, ai, tuple(xi))\n",
    "                 for xi, xj in zip(interp_i, interp_j)}\n"
   ]
  },
  {
   "cell_type": "code",
   "execution_count": 74,
   "metadata": {},
   "outputs": [
    {
     "name": "stdout",
     "output_type": "stream",
     "text": [
      "36540\n"
     ]
    }
   ],
   "source": [
    "(r, c) = (0, 0)\n",
    "f = 0\n",
    "a = 0\n",
    "\n",
    "for instr in instructions:\n",
    "    match instr:\n",
    "        case \"L\":\n",
    "            a = (a - 1) % 4\n",
    "        case \"R\":\n",
    "            a = (a + 1) % 4\n",
    "        case _:\n",
    "            n = int(instr)\n",
    "            for _ in range(n):\n",
    "                debug[f][r, c] = [\">\", \"v\", \"<\", \"^\"][a]\n",
    "                y, x = (r, c)\n",
    "                fnew = f\n",
    "                anew = a\n",
    "                match a:\n",
    "                    case 0:\n",
    "                        x = x + 1\n",
    "                    case 1:\n",
    "                        y = y + 1\n",
    "                    case 2:\n",
    "                        x = x - 1\n",
    "                    case 3:\n",
    "                        y = y - 1\n",
    "\n",
    "                if (y, x) in M[f]:\n",
    "                    fnew, anew,  (y, x) = M[f][(y, x)]\n",
    "                if cube[fnew][y, x]:\n",
    "                    r, c = (y, x)\n",
    "                    f = fnew\n",
    "                    a = anew\n",
    "                else:\n",
    "                    break\n",
    "\n",
    "\n",
    "y, x = cube_to_grid[f]\n",
    "print(1000 * (y+r+1) + 4 * (x+c+1) + a)\n"
   ]
  }
 ],
 "metadata": {
  "kernelspec": {
   "display_name": "Python 3",
   "language": "python",
   "name": "python3"
  },
  "language_info": {
   "codemirror_mode": {
    "name": "ipython",
    "version": 3
   },
   "file_extension": ".py",
   "mimetype": "text/x-python",
   "name": "python",
   "nbconvert_exporter": "python",
   "pygments_lexer": "ipython3",
   "version": "3.11.1"
  },
  "orig_nbformat": 4,
  "vscode": {
   "interpreter": {
    "hash": "bcb5fd88180b1db58aa2a2dcff6917f20a1244b4654b65e6c581cc5cba21a091"
   }
  }
 },
 "nbformat": 4,
 "nbformat_minor": 2
}
