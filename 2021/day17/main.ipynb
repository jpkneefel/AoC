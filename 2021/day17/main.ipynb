{
 "cells": [
  {
   "cell_type": "code",
   "execution_count": 108,
   "metadata": {
    "tags": []
   },
   "outputs": [
    {
     "data": {
      "application/vnd.jupyter.widget-view+json": {
       "model_id": "0ec1d4605e6b4afba89fb9097c767383",
       "version_major": 2,
       "version_minor": 0
      },
      "text/plain": [
       "Select(description='Input file:', index=1, options=('in.txt', 'ex1.txt'), rows=4, value='ex1.txt')"
      ]
     },
     "metadata": {},
     "output_type": "display_data"
    }
   ],
   "source": [
    "from IPython.display import display\n",
    "import ipywidgets as widgets\n",
    "from os import listdir\n",
    "from os.path import isfile, join\n",
    "import re\n",
    "import numpy as np\n",
    "from enum import Enum\n",
    "from copy import deepcopy\n",
    "from pprint import pprint\n",
    "from functools import reduce\n",
    "from time import time\n",
    "from queue import PriorityQueue\n",
    "from math import prod\n",
    "\n",
    "def print_mat(mat):\n",
    "    for row in mat:\n",
    "        print(''.join(row))\n",
    "\n",
    "files = [f for f in listdir('.') if isfile(join('.', f))]\n",
    "pat = re.compile('(ex(\\d)+.txt)|(in(\\d)*.txt)')\n",
    "files = [f for f in files if pat.match(f)]\n",
    "\n",
    "box = widgets.Select(\n",
    "    options=files,\n",
    "    value='ex1.txt',\n",
    "    rows=4,\n",
    "    description='Input file:',\n",
    "    disabled=False\n",
    ")\n",
    "\n",
    "display(box)\n"
   ]
  },
  {
   "cell_type": "markdown",
   "metadata": {},
   "source": [
    "## Parse file"
   ]
  },
  {
   "cell_type": "code",
   "execution_count": 117,
   "metadata": {},
   "outputs": [
    {
     "name": "stdout",
     "output_type": "stream",
     "text": [
      "Done parsing \"in.txt\"\n"
     ]
    }
   ],
   "source": [
    "name = box.value\n",
    "f = open(name, 'r')\n",
    "lines = f.readlines()\n",
    "lines = list(map(lambda l: l.rstrip(), lines))\n",
    "\n",
    "\n",
    "# TODO: Parse the input\n",
    "\n",
    "rx, ry = lines[0][13:].split(', ')\n",
    "minx, maxx = map(int, rx[2:].split('..'))\n",
    "miny, maxy = map(int, ry[2:].split('..'))\n",
    "\n",
    "\n",
    "print(\"Done parsing \\\"{name}\\\"\".format(name=name))\n"
   ]
  },
  {
   "cell_type": "markdown",
   "metadata": {},
   "source": [
    "### Part 1"
   ]
  },
  {
   "cell_type": "code",
   "execution_count": 118,
   "metadata": {},
   "outputs": [
    {
     "name": "stdout",
     "output_type": "stream",
     "text": [
      "10296\n"
     ]
    }
   ],
   "source": [
    "t = 1\n",
    "vx_min = 1\n",
    "for i in range(minx):\n",
    "    if t >= minx:\n",
    "        break\n",
    "    t += i\n",
    "    vx_min = i\n",
    "\n",
    "\n",
    "vx_range = range(vx_min, maxx+1)\n",
    "vy_range = range(miny, abs(miny))\n",
    "l = max(len(vx_range), len(vy_range) * 2 + 1)\n",
    "\n",
    "y = -np.inf\n",
    "for vx in vx_range:\n",
    "    for vy in vy_range:\n",
    "        DX = np.cumsum(np.ones(l))\n",
    "        DX[DX >= vx+1] = vx+1\n",
    "        X = np.cumsum([vx+1] * l - DX)\n",
    "\n",
    "        DY = np.cumsum(np.ones(l))\n",
    "        Y = np.cumsum([vy+1] * l - DY)\n",
    "\n",
    "        TX = np.logical_and(X >= minx, X <= maxx)\n",
    "        TY = np.logical_and(Y >= miny, Y <= maxy)\n",
    "\n",
    "        if np.logical_and(TX, TY).sum() > 0:\n",
    "            y = max(y, np.max(Y))\n",
    "\n",
    "print(int(y))\n"
   ]
  },
  {
   "cell_type": "markdown",
   "metadata": {},
   "source": [
    "### Part 2"
   ]
  },
  {
   "cell_type": "code",
   "execution_count": 119,
   "metadata": {},
   "outputs": [
    {
     "name": "stdout",
     "output_type": "stream",
     "text": [
      "2371\n"
     ]
    }
   ],
   "source": [
    "t = 1\n",
    "vx_min = 1\n",
    "for i in range(minx):\n",
    "    if t >= minx:\n",
    "        break\n",
    "    t += i\n",
    "    vx_min = i\n",
    "\n",
    "\n",
    "vx_range = range(vx_min, maxx+1)\n",
    "vy_range = range(miny, abs(miny))\n",
    "l = max(len(vx_range), len(vy_range) * 2 + 1)\n",
    "\n",
    "total = 0\n",
    "for vx in vx_range:\n",
    "    for vy in vy_range:\n",
    "        DX = np.cumsum(np.ones(l))\n",
    "        DX[DX >= vx+1] = vx+1\n",
    "        X = np.cumsum([vx+1] * l - DX)\n",
    "\n",
    "        DY = np.cumsum(np.ones(l))\n",
    "        Y = np.cumsum([vy+1] * l - DY)\n",
    "\n",
    "        TX = np.logical_and(X >= minx, X <= maxx)\n",
    "        TY = np.logical_and(Y >= miny, Y <= maxy)\n",
    "\n",
    "        if np.logical_and(TX, TY).sum() > 0:\n",
    "            total += 1\n",
    "\n",
    "print(total)\n"
   ]
  }
 ],
 "metadata": {
  "kernelspec": {
   "display_name": "Python 3.10.6 64-bit ('3.10.6')",
   "language": "python",
   "name": "python3"
  },
  "language_info": {
   "codemirror_mode": {
    "name": "ipython",
    "version": 3
   },
   "file_extension": ".py",
   "mimetype": "text/x-python",
   "name": "python",
   "nbconvert_exporter": "python",
   "pygments_lexer": "ipython3",
   "version": "3.10.6"
  },
  "orig_nbformat": 4,
  "vscode": {
   "interpreter": {
    "hash": "2b756ddc43d68246ce63911f0d52e825da4eb80d904e20dbdcc34bf6f90418c2"
   }
  }
 },
 "nbformat": 4,
 "nbformat_minor": 2
}
