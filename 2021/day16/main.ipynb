{
 "cells": [
  {
   "cell_type": "code",
   "execution_count": 46,
   "metadata": {
    "tags": []
   },
   "outputs": [
    {
     "data": {
      "application/vnd.jupyter.widget-view+json": {
       "model_id": "ac858234d5424174bd8beafcf878d883",
       "version_major": 2,
       "version_minor": 0
      },
      "text/plain": [
       "Select(description='Input file:', index=2, options=('in.txt', 'ex2.txt', 'ex1.txt'), rows=4, value='ex1.txt')"
      ]
     },
     "metadata": {},
     "output_type": "display_data"
    }
   ],
   "source": [
    "from IPython.display import display\n",
    "import ipywidgets as widgets\n",
    "from os import listdir\n",
    "from os.path import isfile, join\n",
    "import re\n",
    "import numpy as np\n",
    "from enum import Enum\n",
    "from copy import deepcopy\n",
    "from pprint import pprint\n",
    "from functools import reduce\n",
    "from time import time\n",
    "from queue import PriorityQueue\n",
    "\n",
    "def print_mat(mat):\n",
    "    for row in mat:\n",
    "        print(''.join(row))\n",
    "\n",
    "files = [f for f in listdir('.') if isfile(join('.', f))]\n",
    "pat = re.compile('(ex(\\d)+.txt)|(in(\\d)*.txt)')\n",
    "files = [f for f in files if pat.match(f)]\n",
    "\n",
    "box = widgets.Select(\n",
    "    options=files,\n",
    "    value='ex1.txt',\n",
    "    rows=4,\n",
    "    description='Input file:',\n",
    "    disabled=False\n",
    ")\n",
    "\n",
    "display(box)\n"
   ]
  },
  {
   "cell_type": "markdown",
   "metadata": {},
   "source": [
    "## Parse file"
   ]
  },
  {
   "cell_type": "code",
   "execution_count": 96,
   "metadata": {},
   "outputs": [
    {
     "name": "stdout",
     "output_type": "stream",
     "text": [
      "Done parsing \"in.txt\"\n"
     ]
    }
   ],
   "source": [
    "name = box.value\n",
    "f = open(name, 'r')\n",
    "lines = f.readlines()\n",
    "lines = list(map(lambda l: l.rstrip(), lines))\n",
    "\n",
    "\n",
    "# TODO: Parse the input\n",
    "\n",
    "binary = \"\".join(map(lambda h: format(int(h, base=16), \"04b\"), list(lines[0])))\n",
    "\n",
    "class Packet:\n",
    "    def __init__(self, version, ptype, subpackets=[], value=None):\n",
    "        self.version = version\n",
    "        self.ptype = ptype\n",
    "        self.subpackets = subpackets\n",
    "        self.value = value\n",
    "\n",
    "print(\"Done parsing \\\"{name}\\\"\".format(name=name))\n"
   ]
  },
  {
   "cell_type": "markdown",
   "metadata": {},
   "source": [
    "### Part 1"
   ]
  },
  {
   "cell_type": "code",
   "execution_count": 97,
   "metadata": {},
   "outputs": [
    {
     "name": "stdout",
     "output_type": "stream",
     "text": [
      "963\n"
     ]
    }
   ],
   "source": [
    "def ppacket(input):\n",
    "    v = int(input[:3], base=2)\n",
    "    t = int(input[3:6], base=2)\n",
    "\n",
    "    if t == 4:\n",
    "        i = 6\n",
    "        value = ''\n",
    "        while input[i] != '0':\n",
    "            value += input[i+1:i+5]\n",
    "            i += 5\n",
    "        value += input[i+1:i+5]\n",
    "        return (Packet(v, t, value=int(value, base=2)), input[i+5:])\n",
    "    else:\n",
    "        if input[6] == '0':\n",
    "            l = int(input[7:22], base=2)\n",
    "            subpackets = []\n",
    "            rest = input[22:22+l]\n",
    "            while len(rest) > 0:\n",
    "                p, rest = ppacket(rest)\n",
    "                subpackets.append(p)\n",
    "            return (Packet(v, t, subpackets=subpackets), input[22+l:])\n",
    "        else:\n",
    "            n = int(input[7:18], base=2)\n",
    "            subpackets = []\n",
    "            rest = input[18:]\n",
    "            for _ in range(n):\n",
    "                p, rest = ppacket(rest)\n",
    "                subpackets.append(p)\n",
    "            return (Packet(v, t, subpackets=subpackets), rest)\n",
    "\n",
    "\n",
    "def count(packet):\n",
    "    return packet.version + sum(map(count, packet.subpackets))\n",
    "\n",
    "\n",
    "p, _ = ppacket(binary)\n",
    "print(count(p))\n"
   ]
  },
  {
   "cell_type": "markdown",
   "metadata": {},
   "source": [
    "### Part 2"
   ]
  },
  {
   "cell_type": "code",
   "execution_count": 98,
   "metadata": {},
   "outputs": [
    {
     "name": "stdout",
     "output_type": "stream",
     "text": [
      "1549026292886\n"
     ]
    }
   ],
   "source": [
    "from math import prod\n",
    "\n",
    "\n",
    "def value(packet):\n",
    "    match packet.ptype:\n",
    "        case 0:\n",
    "            return sum(map(value, packet.subpackets))\n",
    "        case 1:\n",
    "            return prod(map(value, packet.subpackets))\n",
    "        case 2:\n",
    "            return min(map(value, packet.subpackets))\n",
    "        case 3:\n",
    "            return max(map(value, packet.subpackets))\n",
    "        case 4:\n",
    "            return packet.value\n",
    "        case 5:\n",
    "            V = list(map(value, packet.subpackets))\n",
    "            return V[0] > V[1]\n",
    "        case 6:\n",
    "            V = list(map(value, packet.subpackets))\n",
    "            return V[0] < V[1]\n",
    "        case 7:\n",
    "            V = list(map(value, packet.subpackets))\n",
    "            return V[0] == V[1]\n",
    "\n",
    "\n",
    "print(int(value(p)))\n"
   ]
  }
 ],
 "metadata": {
  "kernelspec": {
   "display_name": "Python 3.10.6 64-bit ('3.10.6')",
   "language": "python",
   "name": "python3"
  },
  "language_info": {
   "codemirror_mode": {
    "name": "ipython",
    "version": 3
   },
   "file_extension": ".py",
   "mimetype": "text/x-python",
   "name": "python",
   "nbconvert_exporter": "python",
   "pygments_lexer": "ipython3",
   "version": "3.10.6"
  },
  "orig_nbformat": 4,
  "vscode": {
   "interpreter": {
    "hash": "2b756ddc43d68246ce63911f0d52e825da4eb80d904e20dbdcc34bf6f90418c2"
   }
  }
 },
 "nbformat": 4,
 "nbformat_minor": 2
}
