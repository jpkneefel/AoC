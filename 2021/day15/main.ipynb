{
 "cells": [
  {
   "cell_type": "code",
   "execution_count": 41,
   "metadata": {
    "tags": []
   },
   "outputs": [
    {
     "data": {
      "application/vnd.jupyter.widget-view+json": {
       "model_id": "f2931637927743af8737d613086720eb",
       "version_major": 2,
       "version_minor": 0
      },
      "text/plain": [
       "Select(description='Input file:', index=1, options=('in.txt', 'ex1.txt'), rows=4, value='ex1.txt')"
      ]
     },
     "metadata": {},
     "output_type": "display_data"
    }
   ],
   "source": [
    "from IPython.display import display\n",
    "import ipywidgets as widgets\n",
    "from os import listdir\n",
    "from os.path import isfile, join\n",
    "import re\n",
    "import numpy as np\n",
    "from enum import Enum\n",
    "from copy import deepcopy\n",
    "from pprint import pprint\n",
    "from functools import reduce\n",
    "from time import time\n",
    "from queue import PriorityQueue\n",
    "\n",
    "files = [f for f in listdir('.') if isfile(join('.', f))]\n",
    "pat = re.compile('(ex(\\d)+.txt)|(in(\\d)*.txt)')\n",
    "files = [f for f in files if pat.match(f)]\n",
    "\n",
    "box = widgets.Select(\n",
    "    options=files,\n",
    "    value='ex1.txt',\n",
    "    rows=4,\n",
    "    description='Input file:',\n",
    "    disabled=False\n",
    ")\n",
    "\n",
    "display(box)\n"
   ]
  },
  {
   "cell_type": "markdown",
   "metadata": {},
   "source": [
    "## Parse file"
   ]
  },
  {
   "cell_type": "code",
   "execution_count": 46,
   "metadata": {},
   "outputs": [
    {
     "name": "stdout",
     "output_type": "stream",
     "text": [
      "Done parsing \"in.txt\"\n"
     ]
    }
   ],
   "source": [
    "name = box.value\n",
    "f = open(name, 'r')\n",
    "lines = f.readlines()\n",
    "lines = list(map(lambda l: l.rstrip(), lines))\n",
    "\n",
    "\n",
    "# TODO: Parse the input\n",
    "\n",
    "G = np.array(list(map(lambda l: list(map(int, list(l))), lines)))\n",
    "\n",
    "G2 = G\n",
    "for i in range(1,5):\n",
    "    T = G + np.ones(G.shape, dtype=int) * i\n",
    "    T[T > 9] -= 9 \n",
    "    G2 = np.hstack((G2, T))\n",
    "temp = G2\n",
    "for i in range(1,5):\n",
    "    T = temp + np.ones(temp.shape, dtype=int) * i\n",
    "    T[T > 9] -= 9 \n",
    "    G2 = np.vstack((G2, T))\n",
    "\n",
    "s = \"\"\n",
    "for y in range(G2.shape[0]):\n",
    "    for x in range(G2.shape[1]):\n",
    "        s += str(G2[y, x]) \n",
    "    s += \"\\n\"\n",
    "# print(s)\n",
    "\n",
    "print(\"Done parsing \\\"{name}\\\"\".format(name=name))\n"
   ]
  },
  {
   "attachments": {},
   "cell_type": "markdown",
   "metadata": {},
   "source": [
    "### Part 1"
   ]
  },
  {
   "cell_type": "code",
   "execution_count": 43,
   "metadata": {},
   "outputs": [
    {
     "name": "stdout",
     "output_type": "stream",
     "text": [
      "40\n"
     ]
    }
   ],
   "source": [
    "D = np.ones(G.shape) * np.inf\n",
    "D[0][0] = 0\n",
    "P = np.full(G.shape, None)\n",
    "\n",
    "V = {}\n",
    "Q = PriorityQueue()\n",
    "Q.put((0, (0,0)))\n",
    "\n",
    "while not Q.empty():\n",
    "    (d, (x,y)) = Q.get()\n",
    "    V[(x,y)] = True\n",
    "    for (dx,dy) in [(0,1), (0,-1), (1,0), (-1,0)]:\n",
    "        u,v = (x+dx, y+dy)\n",
    "        if u < 0 or v < 0 or u >= G.shape[1] or v >= G.shape[0]:\n",
    "            continue\n",
    "        if (u,v) in V:\n",
    "            continue\n",
    "        else:\n",
    "            dis = d + G[v][u]\n",
    "            if dis < D[v][u]:\n",
    "                D[v][u] = dis\n",
    "                P[v][u] = (x,y)\n",
    "                Q.put((dis, (u,v)))\n",
    "\n",
    "\n",
    "w, h = G.shape\n",
    "print(int(D[h-1][w-1]))\n",
    "\n"
   ]
  },
  {
   "cell_type": "markdown",
   "metadata": {},
   "source": [
    "### Part 2"
   ]
  },
  {
   "cell_type": "code",
   "execution_count": 47,
   "metadata": {},
   "outputs": [
    {
     "name": "stdout",
     "output_type": "stream",
     "text": [
      "2876\n"
     ]
    }
   ],
   "source": [
    "D = np.ones(G2.shape) * np.inf\n",
    "D[0][0] = 0\n",
    "P = np.full(G2.shape, None)\n",
    "\n",
    "V = {}\n",
    "Q = PriorityQueue()\n",
    "Q.put((0, (0,0)))\n",
    "\n",
    "while not Q.empty():\n",
    "    (d, (x,y)) = Q.get()\n",
    "    V[(x,y)] = True\n",
    "    for (dx,dy) in [(0,1), (0,-1), (1,0), (-1,0)]:\n",
    "        u,v = (x+dx, y+dy)\n",
    "        if u < 0 or v < 0 or u >= G2.shape[1] or v >= G2.shape[0]:\n",
    "            continue\n",
    "        if (u,v) in V:\n",
    "            continue\n",
    "        else:\n",
    "            dis = d + G2[v][u]\n",
    "            if dis < D[v][u]:\n",
    "                D[v][u] = dis\n",
    "                P[v][u] = (x,y)\n",
    "                Q.put((dis, (u,v)))\n",
    "\n",
    "\n",
    "w, h = G2.shape\n",
    "print(int(D[h-1][w-1]))\n",
    "\n"
   ]
  }
 ],
 "metadata": {
  "kernelspec": {
   "display_name": "Python 3.10.6 64-bit ('3.10.6')",
   "language": "python",
   "name": "python3"
  },
  "language_info": {
   "codemirror_mode": {
    "name": "ipython",
    "version": 3
   },
   "file_extension": ".py",
   "mimetype": "text/x-python",
   "name": "python",
   "nbconvert_exporter": "python",
   "pygments_lexer": "ipython3",
   "version": "3.10.6 (main, Aug 17 2022, 12:18:36) [Clang 13.1.6 (clang-1316.0.21.2.5)]"
  },
  "orig_nbformat": 4,
  "vscode": {
   "interpreter": {
    "hash": "2b756ddc43d68246ce63911f0d52e825da4eb80d904e20dbdcc34bf6f90418c2"
   }
  }
 },
 "nbformat": 4,
 "nbformat_minor": 2
}
