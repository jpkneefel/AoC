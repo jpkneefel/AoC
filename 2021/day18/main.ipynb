{
 "cells": [
  {
   "cell_type": "code",
   "execution_count": 2,
   "metadata": {
    "tags": []
   },
   "outputs": [
    {
     "data": {
      "application/vnd.jupyter.widget-view+json": {
       "model_id": "b49705c4f20a449fbca11d82472a299f",
       "version_major": 2,
       "version_minor": 0
      },
      "text/plain": [
       "Select(description='Input file:', index=3, options=('in.txt', 'ex3.txt', 'ex2.txt', 'ex1.txt'), rows=4, value=…"
      ]
     },
     "metadata": {},
     "output_type": "display_data"
    }
   ],
   "source": [
    "from IPython.display import display\n",
    "import ipywidgets as widgets\n",
    "from os import listdir\n",
    "from os.path import isfile, join\n",
    "import re\n",
    "import numpy as np\n",
    "from enum import Enum\n",
    "from copy import deepcopy\n",
    "from pprint import pprint\n",
    "from functools import reduce\n",
    "from time import time\n",
    "from queue import PriorityQueue\n",
    "from math import prod, ceil\n",
    "import string\n",
    "\n",
    "\n",
    "def print_mat(mat):\n",
    "    for row in mat:\n",
    "        print(''.join(row))\n",
    "\n",
    "\n",
    "files = [f for f in listdir('.') if isfile(join('.', f))]\n",
    "pat = re.compile('(ex(\\d)+.txt)|(in(\\d)*.txt)')\n",
    "files = [f for f in files if pat.match(f)]\n",
    "\n",
    "box = widgets.Select(\n",
    "    options=files,\n",
    "    value='ex1.txt',\n",
    "    rows=4,\n",
    "    description='Input file:',\n",
    "    disabled=False\n",
    ")\n",
    "\n",
    "display(box)\n"
   ]
  },
  {
   "cell_type": "markdown",
   "metadata": {},
   "source": [
    "## Parse file"
   ]
  },
  {
   "cell_type": "code",
   "execution_count": 6,
   "metadata": {},
   "outputs": [
    {
     "name": "stdout",
     "output_type": "stream",
     "text": [
      "Done parsing \"in.txt\"\n"
     ]
    }
   ],
   "source": [
    "lines = list(map(lambda l: l.rstrip(), open(box.value, 'r').readlines()))\n",
    "\n",
    "print(\"Done parsing \\\"{name}\\\"\".format(name=box.value))\n"
   ]
  },
  {
   "cell_type": "markdown",
   "metadata": {},
   "source": [
    "### Part 1"
   ]
  },
  {
   "cell_type": "code",
   "execution_count": 7,
   "metadata": {},
   "outputs": [
    {
     "name": "stdout",
     "output_type": "stream",
     "text": [
      "3574\n"
     ]
    }
   ],
   "source": [
    "def split(num):\n",
    "    pat = re.compile('(\\d+)')\n",
    "    M = [(int(m.group()), m.start(0), m.end(0)) for m in re.finditer(pat, num)]\n",
    "    x, i, j = next(filter(lambda m: m[0] >= 10, M), (None, None, None))\n",
    "    if x is None:\n",
    "        return None\n",
    "    else:\n",
    "        a = x // 2\n",
    "        b = ceil(x / 2)\n",
    "        return num[:i] + \"[{},{}]\".format(a, b) + num[j:]\n",
    "\n",
    "\n",
    "def explode(num):\n",
    "    single = re.compile('(\\d+)')\n",
    "    pair = re.compile('\\[(\\d+),(\\d+)\\]')\n",
    "    i = 0\n",
    "    d = 0\n",
    "    while i < len(num):\n",
    "        if num[i] == '[':\n",
    "            d += 1\n",
    "            if d == 5:\n",
    "                x, y = map(int, pair.match(num[i:]).group()[1:-1].split(','))\n",
    "                middle = re.sub(pair, '', num[i:], count=1)\n",
    "                left = re.sub(single, lambda m: str(\n",
    "                    int(m.group()[::-1]) + x)[::-1], num[:i][::-1], count=1)[::-1]\n",
    "                right = re.sub(single, lambda m: str(\n",
    "                    int(m.group()) + y), middle, count=1)\n",
    "                return left + '0' + right\n",
    "\n",
    "        elif num[i] == ']':\n",
    "            d -= 1\n",
    "        i += 1\n",
    "    return None\n",
    "\n",
    "\n",
    "def reduce_num(num):\n",
    "    while True:\n",
    "        e = explode(num)\n",
    "        if e != None:\n",
    "            num = e\n",
    "            continue\n",
    "        else:\n",
    "            s = split(num)\n",
    "            if s != None:\n",
    "                num = s\n",
    "            else:\n",
    "                break\n",
    "    return num\n",
    "\n",
    "\n",
    "def add(a, b):\n",
    "    return reduce_num(\"[{},{}]\".format(a, b))\n",
    "\n",
    "\n",
    "def magnitude(num):\n",
    "    def count(l):\n",
    "        if type(l) == int:\n",
    "            return l\n",
    "        return count(l[0]) * 3 + count(l[1]) * 2\n",
    "    return count(eval(num))\n",
    "\n",
    "\n",
    "print(magnitude(reduce(add, lines)))\n"
   ]
  },
  {
   "cell_type": "markdown",
   "metadata": {},
   "source": [
    "### Part 2"
   ]
  },
  {
   "cell_type": "code",
   "execution_count": 9,
   "metadata": {},
   "outputs": [
    {
     "name": "stdout",
     "output_type": "stream",
     "text": [
      "4763\n"
     ]
    }
   ],
   "source": [
    "m = -np.inf\n",
    "for i in range(len(lines)):\n",
    "    for j in range(len(lines)):\n",
    "        if i == j:\n",
    "            continue\n",
    "        m = max(m, magnitude(add(lines[i], lines[j])))\n",
    "        \n",
    "print(m)"
   ]
  }
 ],
 "metadata": {
  "kernelspec": {
   "display_name": "Python 3.10.6 64-bit ('3.10.6')",
   "language": "python",
   "name": "python3"
  },
  "language_info": {
   "codemirror_mode": {
    "name": "ipython",
    "version": 3
   },
   "file_extension": ".py",
   "mimetype": "text/x-python",
   "name": "python",
   "nbconvert_exporter": "python",
   "pygments_lexer": "ipython3",
   "version": "3.10.6"
  },
  "orig_nbformat": 4,
  "vscode": {
   "interpreter": {
    "hash": "2b756ddc43d68246ce63911f0d52e825da4eb80d904e20dbdcc34bf6f90418c2"
   }
  }
 },
 "nbformat": 4,
 "nbformat_minor": 2
}
