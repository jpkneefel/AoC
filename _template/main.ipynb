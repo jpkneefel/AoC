{
 "cells": [
  {
   "cell_type": "code",
   "execution_count": 1,
   "metadata": {
    "tags": []
   },
   "outputs": [
    {
     "data": {
      "application/vnd.jupyter.widget-view+json": {
       "model_id": "1d88ba1e595840efb0712a5e69959d82",
       "version_major": 2,
       "version_minor": 0
      },
      "text/plain": [
       "Select(description='Input file:', index=1, options=('in.txt', 'ex1.txt'), rows=4, value='ex1.txt')"
      ]
     },
     "metadata": {},
     "output_type": "display_data"
    }
   ],
   "source": [
    "from IPython.display import display\n",
    "import ipywidgets as widgets\n",
    "from os import listdir\n",
    "from os.path import isfile, join\n",
    "import re\n",
    "import numpy as np\n",
    "from enum import Enum\n",
    "from copy import deepcopy\n",
    "from pprint import pprint\n",
    "from functools import reduce\n",
    "from time import time\n",
    "from queue import PriorityQueue\n",
    "from math import prod\n",
    "\n",
    "def print_mat(mat):\n",
    "    for row in mat:\n",
    "        print(''.join(row))\n",
    "\n",
    "files = [f for f in listdir('.') if isfile(join('.', f))]\n",
    "pat = re.compile('(ex(\\d)+.txt)|(in(\\d)*.txt)')\n",
    "files = [f for f in files if pat.match(f)]\n",
    "\n",
    "box = widgets.Select(\n",
    "    options=files,\n",
    "    value='ex1.txt',\n",
    "    rows=4,\n",
    "    description='Input file:',\n",
    "    disabled=False\n",
    ")\n",
    "\n",
    "display(box)\n"
   ]
  },
  {
   "cell_type": "markdown",
   "metadata": {},
   "source": [
    "## Parse file"
   ]
  },
  {
   "cell_type": "code",
   "execution_count": 2,
   "metadata": {},
   "outputs": [],
   "source": [
    "name = box.value\n",
    "f = open(name, 'r')\n",
    "lines = f.readlines()\n",
    "lines = list(map(lambda l: l.rstrip(), lines))\n",
    "\n",
    "\n",
    "# TODO: Parse the input\n",
    "\n",
    "\n",
    "print(\"Done parsing \\\"{name}\\\"\".format(name=name))\n"
   ]
  },
  {
   "cell_type": "markdown",
   "metadata": {},
   "source": [
    "### Part 1"
   ]
  },
  {
   "cell_type": "code",
   "execution_count": null,
   "metadata": {},
   "outputs": [],
   "source": []
  },
  {
   "cell_type": "markdown",
   "metadata": {},
   "source": [
    "### Part 2"
   ]
  },
  {
   "cell_type": "code",
   "execution_count": null,
   "metadata": {},
   "outputs": [],
   "source": []
  }
 ],
 "metadata": {
  "kernelspec": {
   "display_name": "Python 3.10.6 64-bit ('3.10.6')",
   "language": "python",
   "name": "python3"
  },
  "language_info": {
   "codemirror_mode": {
    "name": "ipython",
    "version": 3
   },
   "file_extension": ".py",
   "mimetype": "text/x-python",
   "name": "python",
   "nbconvert_exporter": "python",
   "pygments_lexer": "ipython3",
   "version": "3.10.6"
  },
  "orig_nbformat": 4,
  "vscode": {
   "interpreter": {
    "hash": "2b756ddc43d68246ce63911f0d52e825da4eb80d904e20dbdcc34bf6f90418c2"
   }
  }
 },
 "nbformat": 4,
 "nbformat_minor": 2
}
